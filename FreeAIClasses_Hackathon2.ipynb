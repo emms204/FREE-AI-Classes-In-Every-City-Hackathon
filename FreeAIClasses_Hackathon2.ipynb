{
  "cells": [
    {
      "cell_type": "markdown",
      "metadata": {
        "id": "view-in-github",
        "colab_type": "text"
      },
      "source": [
        "<a href=\"https://colab.research.google.com/github/emms204/FREE-AI-Classes-In-Every-City-Hackathon/blob/main/FreeAIClasses_Hackathon2.ipynb\" target=\"_parent\"><img src=\"https://colab.research.google.com/assets/colab-badge.svg\" alt=\"Open In Colab\"/></a>"
      ]
    },
    {
      "cell_type": "code",
      "execution_count": null,
      "metadata": {
        "id": "1YSDyNMK_0O6"
      },
      "outputs": [],
      "source": [
        "import pandas as pd\n",
        "import numpy as np\n",
        "import matplotlib.pyplot as plt\n",
        "import seaborn as sns\n",
        "sns.set()\n"
      ]
    },
    {
      "cell_type": "code",
      "execution_count": null,
      "metadata": {
        "id": "yw-sXY_gfFm0"
      },
      "outputs": [],
      "source": [
        "from sklearn.model_selection import train_test_split,KFold,cross_val_score\n",
        "from sklearn.metrics import mean_squared_error, mean_absolute_error\n",
        "from math import sqrt\n",
        "from lightgbm import LGBMRegressor\n",
        "from xgboost import XGBRegressor\n",
        "from sklearn.preprocessing import StandardScaler,MinMaxScaler\n",
        "from sklearn.ensemble import RandomForestRegressor,BaggingRegressor"
      ]
    },
    {
      "cell_type": "code",
      "execution_count": null,
      "metadata": {
        "id": "0SdQuF-AApy-"
      },
      "outputs": [],
      "source": [
        "Train = pd.read_csv('/content/Train.csv')\n",
        "Test = pd.read_csv('/content/Test.csv')\n",
        "SampleSub = pd.read_csv('/content/SampleSubmission.csv')\n",
        "Var_def = pd.read_csv('/content/VariableDefinitions.csv')"
      ]
    },
    {
      "cell_type": "code",
      "execution_count": null,
      "metadata": {
        "colab": {
          "base_uri": "https://localhost:8080/",
          "height": 300
        },
        "id": "-MO3nzBsBFTa",
        "outputId": "7ff58029-5e94-4357-cc4e-ca9484851b59"
      },
      "outputs": [
        {
          "output_type": "execute_result",
          "data": {
            "text/plain": [
              "                VehicleID  \\\n",
              "0                Location   \n",
              "1                   Maker   \n",
              "2                   Model   \n",
              "3                    Year   \n",
              "4                  Colour   \n",
              "5  Amount (Million Naira)   \n",
              "6                    Type   \n",
              "7                Distance   \n",
              "\n",
              "                                                                          This is the unique identifier of the car.  \n",
              "0                                                        This is the location in Nigeria where the seller is based.  \n",
              "1                                                        This is the manufacturer of the car. It is the brand name.  \n",
              "2                                   This is the the name of the car product within a range of similar car products.  \n",
              "3                                                                        This is the year the car was manufactured.  \n",
              "4                                                                                    This is the colour of the car.  \n",
              "5                             This is the selling price of the car. It is the amount the company will sell the car.  \n",
              "6  This is the nature of previous use of the car, whether it was previously used within Nigeria or outside Nigeria.  \n",
              "7                            This is the mileage of the car. It is how much distance it covered in its previous use  "
            ],
            "text/html": [
              "\n",
              "  <div id=\"df-3b4cd0c3-12fe-4384-b3bc-0aa8b678535c\">\n",
              "    <div class=\"colab-df-container\">\n",
              "      <div>\n",
              "<style scoped>\n",
              "    .dataframe tbody tr th:only-of-type {\n",
              "        vertical-align: middle;\n",
              "    }\n",
              "\n",
              "    .dataframe tbody tr th {\n",
              "        vertical-align: top;\n",
              "    }\n",
              "\n",
              "    .dataframe thead th {\n",
              "        text-align: right;\n",
              "    }\n",
              "</style>\n",
              "<table border=\"1\" class=\"dataframe\">\n",
              "  <thead>\n",
              "    <tr style=\"text-align: right;\">\n",
              "      <th></th>\n",
              "      <th>VehicleID</th>\n",
              "      <th>This is the unique identifier of the car.</th>\n",
              "    </tr>\n",
              "  </thead>\n",
              "  <tbody>\n",
              "    <tr>\n",
              "      <th>0</th>\n",
              "      <td>Location</td>\n",
              "      <td>This is the location in Nigeria where the seller is based.</td>\n",
              "    </tr>\n",
              "    <tr>\n",
              "      <th>1</th>\n",
              "      <td>Maker</td>\n",
              "      <td>This is the manufacturer of the car. It is the brand name.</td>\n",
              "    </tr>\n",
              "    <tr>\n",
              "      <th>2</th>\n",
              "      <td>Model</td>\n",
              "      <td>This is the the name of the car product within a range of similar car products.</td>\n",
              "    </tr>\n",
              "    <tr>\n",
              "      <th>3</th>\n",
              "      <td>Year</td>\n",
              "      <td>This is the year the car was manufactured.</td>\n",
              "    </tr>\n",
              "    <tr>\n",
              "      <th>4</th>\n",
              "      <td>Colour</td>\n",
              "      <td>This is the colour of the car.</td>\n",
              "    </tr>\n",
              "    <tr>\n",
              "      <th>5</th>\n",
              "      <td>Amount (Million Naira)</td>\n",
              "      <td>This is the selling price of the car. It is the amount the company will sell the car.</td>\n",
              "    </tr>\n",
              "    <tr>\n",
              "      <th>6</th>\n",
              "      <td>Type</td>\n",
              "      <td>This is the nature of previous use of the car, whether it was previously used within Nigeria or outside Nigeria.</td>\n",
              "    </tr>\n",
              "    <tr>\n",
              "      <th>7</th>\n",
              "      <td>Distance</td>\n",
              "      <td>This is the mileage of the car. It is how much distance it covered in its previous use</td>\n",
              "    </tr>\n",
              "  </tbody>\n",
              "</table>\n",
              "</div>\n",
              "      <button class=\"colab-df-convert\" onclick=\"convertToInteractive('df-3b4cd0c3-12fe-4384-b3bc-0aa8b678535c')\"\n",
              "              title=\"Convert this dataframe to an interactive table.\"\n",
              "              style=\"display:none;\">\n",
              "        \n",
              "  <svg xmlns=\"http://www.w3.org/2000/svg\" height=\"24px\"viewBox=\"0 0 24 24\"\n",
              "       width=\"24px\">\n",
              "    <path d=\"M0 0h24v24H0V0z\" fill=\"none\"/>\n",
              "    <path d=\"M18.56 5.44l.94 2.06.94-2.06 2.06-.94-2.06-.94-.94-2.06-.94 2.06-2.06.94zm-11 1L8.5 8.5l.94-2.06 2.06-.94-2.06-.94L8.5 2.5l-.94 2.06-2.06.94zm10 10l.94 2.06.94-2.06 2.06-.94-2.06-.94-.94-2.06-.94 2.06-2.06.94z\"/><path d=\"M17.41 7.96l-1.37-1.37c-.4-.4-.92-.59-1.43-.59-.52 0-1.04.2-1.43.59L10.3 9.45l-7.72 7.72c-.78.78-.78 2.05 0 2.83L4 21.41c.39.39.9.59 1.41.59.51 0 1.02-.2 1.41-.59l7.78-7.78 2.81-2.81c.8-.78.8-2.07 0-2.86zM5.41 20L4 18.59l7.72-7.72 1.47 1.35L5.41 20z\"/>\n",
              "  </svg>\n",
              "      </button>\n",
              "      \n",
              "  <style>\n",
              "    .colab-df-container {\n",
              "      display:flex;\n",
              "      flex-wrap:wrap;\n",
              "      gap: 12px;\n",
              "    }\n",
              "\n",
              "    .colab-df-convert {\n",
              "      background-color: #E8F0FE;\n",
              "      border: none;\n",
              "      border-radius: 50%;\n",
              "      cursor: pointer;\n",
              "      display: none;\n",
              "      fill: #1967D2;\n",
              "      height: 32px;\n",
              "      padding: 0 0 0 0;\n",
              "      width: 32px;\n",
              "    }\n",
              "\n",
              "    .colab-df-convert:hover {\n",
              "      background-color: #E2EBFA;\n",
              "      box-shadow: 0px 1px 2px rgba(60, 64, 67, 0.3), 0px 1px 3px 1px rgba(60, 64, 67, 0.15);\n",
              "      fill: #174EA6;\n",
              "    }\n",
              "\n",
              "    [theme=dark] .colab-df-convert {\n",
              "      background-color: #3B4455;\n",
              "      fill: #D2E3FC;\n",
              "    }\n",
              "\n",
              "    [theme=dark] .colab-df-convert:hover {\n",
              "      background-color: #434B5C;\n",
              "      box-shadow: 0px 1px 3px 1px rgba(0, 0, 0, 0.15);\n",
              "      filter: drop-shadow(0px 1px 2px rgba(0, 0, 0, 0.3));\n",
              "      fill: #FFFFFF;\n",
              "    }\n",
              "  </style>\n",
              "\n",
              "      <script>\n",
              "        const buttonEl =\n",
              "          document.querySelector('#df-3b4cd0c3-12fe-4384-b3bc-0aa8b678535c button.colab-df-convert');\n",
              "        buttonEl.style.display =\n",
              "          google.colab.kernel.accessAllowed ? 'block' : 'none';\n",
              "\n",
              "        async function convertToInteractive(key) {\n",
              "          const element = document.querySelector('#df-3b4cd0c3-12fe-4384-b3bc-0aa8b678535c');\n",
              "          const dataTable =\n",
              "            await google.colab.kernel.invokeFunction('convertToInteractive',\n",
              "                                                     [key], {});\n",
              "          if (!dataTable) return;\n",
              "\n",
              "          const docLinkHtml = 'Like what you see? Visit the ' +\n",
              "            '<a target=\"_blank\" href=https://colab.research.google.com/notebooks/data_table.ipynb>data table notebook</a>'\n",
              "            + ' to learn more about interactive tables.';\n",
              "          element.innerHTML = '';\n",
              "          dataTable['output_type'] = 'display_data';\n",
              "          await google.colab.output.renderOutput(dataTable, element);\n",
              "          const docLink = document.createElement('div');\n",
              "          docLink.innerHTML = docLinkHtml;\n",
              "          element.appendChild(docLink);\n",
              "        }\n",
              "      </script>\n",
              "    </div>\n",
              "  </div>\n",
              "  "
            ]
          },
          "metadata": {},
          "execution_count": 68
        }
      ],
      "source": [
        "pd.set_option('display.max_colwidth',200)\n",
        "Var_def"
      ]
    },
    {
      "cell_type": "code",
      "execution_count": null,
      "metadata": {
        "colab": {
          "base_uri": "https://localhost:8080/",
          "height": 468
        },
        "id": "iELogQecBAbc",
        "outputId": "bdf63835-cea2-492f-b2ab-fba0644e944f"
      },
      "outputs": [
        {
          "output_type": "execute_result",
          "data": {
            "text/plain": [
              "     VehicleID Location          Maker                 Model   Year  Colour  \\\n",
              "0     VHL12546    Abuja          Honda   Accord Coupe EX V-6  2,011  Silver   \n",
              "1     VHL18827   Ibadan        Hyundai                Sonata  2,012  Silver   \n",
              "2     VHL19499    Lagos          Lexus                RX 350  2,010     Red   \n",
              "3     VHL17991    Abuja  Mercedes-Benz             GLE-Class  2,017    Blue   \n",
              "4     VHL12170   Ibadan         Toyota            Highlander  2,002     Red   \n",
              "...        ...      ...            ...                   ...    ...     ...   \n",
              "7200  VHL14329    Abuja          Honda                 Civic  2,018    Gray   \n",
              "7201  VHL10637    Abuja            BMW                    X3  2,007   White   \n",
              "7202  VHL19734    Abuja         Toyota  RAV4 2.5 Limited 4x4  2,010   Black   \n",
              "7203  VHL15569    Lagos  Mercedes-Benz         GLK-Class 350  2,012   Black   \n",
              "7204  VHL15246    Abuja          Honda      Accord Crosstour  2,012    Gray   \n",
              "\n",
              "      Amount (Million Naira)           Type Distance  \n",
              "0                       2.20  Nigerian Used      NaN  \n",
              "1                       3.50  Nigerian Used  125,000  \n",
              "2                       9.20   Foreign Used  110,852  \n",
              "3                      22.80   Foreign Used   30,000  \n",
              "4                       2.60  Nigerian Used  125,206  \n",
              "...                      ...            ...      ...  \n",
              "7200                    5.70   Foreign Used   65,000  \n",
              "7201                    4.00  Nigerian Used  200,000  \n",
              "7202                    2.85  Nigerian Used      NaN  \n",
              "7203                    8.65   Foreign Used   85,750  \n",
              "7204                    3.38  Nigerian Used   83,308  \n",
              "\n",
              "[7205 rows x 9 columns]"
            ],
            "text/html": [
              "\n",
              "  <div id=\"df-a93e11da-b23d-4509-9413-40c475e9ada0\">\n",
              "    <div class=\"colab-df-container\">\n",
              "      <div>\n",
              "<style scoped>\n",
              "    .dataframe tbody tr th:only-of-type {\n",
              "        vertical-align: middle;\n",
              "    }\n",
              "\n",
              "    .dataframe tbody tr th {\n",
              "        vertical-align: top;\n",
              "    }\n",
              "\n",
              "    .dataframe thead th {\n",
              "        text-align: right;\n",
              "    }\n",
              "</style>\n",
              "<table border=\"1\" class=\"dataframe\">\n",
              "  <thead>\n",
              "    <tr style=\"text-align: right;\">\n",
              "      <th></th>\n",
              "      <th>VehicleID</th>\n",
              "      <th>Location</th>\n",
              "      <th>Maker</th>\n",
              "      <th>Model</th>\n",
              "      <th>Year</th>\n",
              "      <th>Colour</th>\n",
              "      <th>Amount (Million Naira)</th>\n",
              "      <th>Type</th>\n",
              "      <th>Distance</th>\n",
              "    </tr>\n",
              "  </thead>\n",
              "  <tbody>\n",
              "    <tr>\n",
              "      <th>0</th>\n",
              "      <td>VHL12546</td>\n",
              "      <td>Abuja</td>\n",
              "      <td>Honda</td>\n",
              "      <td>Accord Coupe EX V-6</td>\n",
              "      <td>2,011</td>\n",
              "      <td>Silver</td>\n",
              "      <td>2.20</td>\n",
              "      <td>Nigerian Used</td>\n",
              "      <td>NaN</td>\n",
              "    </tr>\n",
              "    <tr>\n",
              "      <th>1</th>\n",
              "      <td>VHL18827</td>\n",
              "      <td>Ibadan</td>\n",
              "      <td>Hyundai</td>\n",
              "      <td>Sonata</td>\n",
              "      <td>2,012</td>\n",
              "      <td>Silver</td>\n",
              "      <td>3.50</td>\n",
              "      <td>Nigerian Used</td>\n",
              "      <td>125,000</td>\n",
              "    </tr>\n",
              "    <tr>\n",
              "      <th>2</th>\n",
              "      <td>VHL19499</td>\n",
              "      <td>Lagos</td>\n",
              "      <td>Lexus</td>\n",
              "      <td>RX 350</td>\n",
              "      <td>2,010</td>\n",
              "      <td>Red</td>\n",
              "      <td>9.20</td>\n",
              "      <td>Foreign Used</td>\n",
              "      <td>110,852</td>\n",
              "    </tr>\n",
              "    <tr>\n",
              "      <th>3</th>\n",
              "      <td>VHL17991</td>\n",
              "      <td>Abuja</td>\n",
              "      <td>Mercedes-Benz</td>\n",
              "      <td>GLE-Class</td>\n",
              "      <td>2,017</td>\n",
              "      <td>Blue</td>\n",
              "      <td>22.80</td>\n",
              "      <td>Foreign Used</td>\n",
              "      <td>30,000</td>\n",
              "    </tr>\n",
              "    <tr>\n",
              "      <th>4</th>\n",
              "      <td>VHL12170</td>\n",
              "      <td>Ibadan</td>\n",
              "      <td>Toyota</td>\n",
              "      <td>Highlander</td>\n",
              "      <td>2,002</td>\n",
              "      <td>Red</td>\n",
              "      <td>2.60</td>\n",
              "      <td>Nigerian Used</td>\n",
              "      <td>125,206</td>\n",
              "    </tr>\n",
              "    <tr>\n",
              "      <th>...</th>\n",
              "      <td>...</td>\n",
              "      <td>...</td>\n",
              "      <td>...</td>\n",
              "      <td>...</td>\n",
              "      <td>...</td>\n",
              "      <td>...</td>\n",
              "      <td>...</td>\n",
              "      <td>...</td>\n",
              "      <td>...</td>\n",
              "    </tr>\n",
              "    <tr>\n",
              "      <th>7200</th>\n",
              "      <td>VHL14329</td>\n",
              "      <td>Abuja</td>\n",
              "      <td>Honda</td>\n",
              "      <td>Civic</td>\n",
              "      <td>2,018</td>\n",
              "      <td>Gray</td>\n",
              "      <td>5.70</td>\n",
              "      <td>Foreign Used</td>\n",
              "      <td>65,000</td>\n",
              "    </tr>\n",
              "    <tr>\n",
              "      <th>7201</th>\n",
              "      <td>VHL10637</td>\n",
              "      <td>Abuja</td>\n",
              "      <td>BMW</td>\n",
              "      <td>X3</td>\n",
              "      <td>2,007</td>\n",
              "      <td>White</td>\n",
              "      <td>4.00</td>\n",
              "      <td>Nigerian Used</td>\n",
              "      <td>200,000</td>\n",
              "    </tr>\n",
              "    <tr>\n",
              "      <th>7202</th>\n",
              "      <td>VHL19734</td>\n",
              "      <td>Abuja</td>\n",
              "      <td>Toyota</td>\n",
              "      <td>RAV4 2.5 Limited 4x4</td>\n",
              "      <td>2,010</td>\n",
              "      <td>Black</td>\n",
              "      <td>2.85</td>\n",
              "      <td>Nigerian Used</td>\n",
              "      <td>NaN</td>\n",
              "    </tr>\n",
              "    <tr>\n",
              "      <th>7203</th>\n",
              "      <td>VHL15569</td>\n",
              "      <td>Lagos</td>\n",
              "      <td>Mercedes-Benz</td>\n",
              "      <td>GLK-Class 350</td>\n",
              "      <td>2,012</td>\n",
              "      <td>Black</td>\n",
              "      <td>8.65</td>\n",
              "      <td>Foreign Used</td>\n",
              "      <td>85,750</td>\n",
              "    </tr>\n",
              "    <tr>\n",
              "      <th>7204</th>\n",
              "      <td>VHL15246</td>\n",
              "      <td>Abuja</td>\n",
              "      <td>Honda</td>\n",
              "      <td>Accord Crosstour</td>\n",
              "      <td>2,012</td>\n",
              "      <td>Gray</td>\n",
              "      <td>3.38</td>\n",
              "      <td>Nigerian Used</td>\n",
              "      <td>83,308</td>\n",
              "    </tr>\n",
              "  </tbody>\n",
              "</table>\n",
              "<p>7205 rows × 9 columns</p>\n",
              "</div>\n",
              "      <button class=\"colab-df-convert\" onclick=\"convertToInteractive('df-a93e11da-b23d-4509-9413-40c475e9ada0')\"\n",
              "              title=\"Convert this dataframe to an interactive table.\"\n",
              "              style=\"display:none;\">\n",
              "        \n",
              "  <svg xmlns=\"http://www.w3.org/2000/svg\" height=\"24px\"viewBox=\"0 0 24 24\"\n",
              "       width=\"24px\">\n",
              "    <path d=\"M0 0h24v24H0V0z\" fill=\"none\"/>\n",
              "    <path d=\"M18.56 5.44l.94 2.06.94-2.06 2.06-.94-2.06-.94-.94-2.06-.94 2.06-2.06.94zm-11 1L8.5 8.5l.94-2.06 2.06-.94-2.06-.94L8.5 2.5l-.94 2.06-2.06.94zm10 10l.94 2.06.94-2.06 2.06-.94-2.06-.94-.94-2.06-.94 2.06-2.06.94z\"/><path d=\"M17.41 7.96l-1.37-1.37c-.4-.4-.92-.59-1.43-.59-.52 0-1.04.2-1.43.59L10.3 9.45l-7.72 7.72c-.78.78-.78 2.05 0 2.83L4 21.41c.39.39.9.59 1.41.59.51 0 1.02-.2 1.41-.59l7.78-7.78 2.81-2.81c.8-.78.8-2.07 0-2.86zM5.41 20L4 18.59l7.72-7.72 1.47 1.35L5.41 20z\"/>\n",
              "  </svg>\n",
              "      </button>\n",
              "      \n",
              "  <style>\n",
              "    .colab-df-container {\n",
              "      display:flex;\n",
              "      flex-wrap:wrap;\n",
              "      gap: 12px;\n",
              "    }\n",
              "\n",
              "    .colab-df-convert {\n",
              "      background-color: #E8F0FE;\n",
              "      border: none;\n",
              "      border-radius: 50%;\n",
              "      cursor: pointer;\n",
              "      display: none;\n",
              "      fill: #1967D2;\n",
              "      height: 32px;\n",
              "      padding: 0 0 0 0;\n",
              "      width: 32px;\n",
              "    }\n",
              "\n",
              "    .colab-df-convert:hover {\n",
              "      background-color: #E2EBFA;\n",
              "      box-shadow: 0px 1px 2px rgba(60, 64, 67, 0.3), 0px 1px 3px 1px rgba(60, 64, 67, 0.15);\n",
              "      fill: #174EA6;\n",
              "    }\n",
              "\n",
              "    [theme=dark] .colab-df-convert {\n",
              "      background-color: #3B4455;\n",
              "      fill: #D2E3FC;\n",
              "    }\n",
              "\n",
              "    [theme=dark] .colab-df-convert:hover {\n",
              "      background-color: #434B5C;\n",
              "      box-shadow: 0px 1px 3px 1px rgba(0, 0, 0, 0.15);\n",
              "      filter: drop-shadow(0px 1px 2px rgba(0, 0, 0, 0.3));\n",
              "      fill: #FFFFFF;\n",
              "    }\n",
              "  </style>\n",
              "\n",
              "      <script>\n",
              "        const buttonEl =\n",
              "          document.querySelector('#df-a93e11da-b23d-4509-9413-40c475e9ada0 button.colab-df-convert');\n",
              "        buttonEl.style.display =\n",
              "          google.colab.kernel.accessAllowed ? 'block' : 'none';\n",
              "\n",
              "        async function convertToInteractive(key) {\n",
              "          const element = document.querySelector('#df-a93e11da-b23d-4509-9413-40c475e9ada0');\n",
              "          const dataTable =\n",
              "            await google.colab.kernel.invokeFunction('convertToInteractive',\n",
              "                                                     [key], {});\n",
              "          if (!dataTable) return;\n",
              "\n",
              "          const docLinkHtml = 'Like what you see? Visit the ' +\n",
              "            '<a target=\"_blank\" href=https://colab.research.google.com/notebooks/data_table.ipynb>data table notebook</a>'\n",
              "            + ' to learn more about interactive tables.';\n",
              "          element.innerHTML = '';\n",
              "          dataTable['output_type'] = 'display_data';\n",
              "          await google.colab.output.renderOutput(dataTable, element);\n",
              "          const docLink = document.createElement('div');\n",
              "          docLink.innerHTML = docLinkHtml;\n",
              "          element.appendChild(docLink);\n",
              "        }\n",
              "      </script>\n",
              "    </div>\n",
              "  </div>\n",
              "  "
            ]
          },
          "metadata": {},
          "execution_count": 69
        }
      ],
      "source": [
        "Train"
      ]
    },
    {
      "cell_type": "code",
      "execution_count": null,
      "metadata": {
        "colab": {
          "base_uri": "https://localhost:8080/",
          "height": 424
        },
        "id": "jxrMEQhCBBaA",
        "outputId": "304f830b-370b-47de-8993-2ee3d16c2867"
      },
      "outputs": [
        {
          "output_type": "execute_result",
          "data": {
            "text/plain": [
              "     VehicleID Location    Maker                  Model   Year  Colour  \\\n",
              "0     VHL18518    Abuja      BMW                   323i  2,008   White   \n",
              "1     VHL17149    Lagos   Toyota                  Camry  2,013   White   \n",
              "2     VHL10927    Lagos   Toyota  Highlander Limited V6  2,005    Gold   \n",
              "3     VHL12909    Lagos   Toyota                  Camry  2,011    Gray   \n",
              "4     VHL12348    Lagos    Lexus             ES 350 FWD  2,013     Red   \n",
              "...        ...      ...      ...                    ...    ...     ...   \n",
              "2056  VHL17903    Abuja   Toyota                 Avalon  2,020     Red   \n",
              "2057  VHL14018   Ibadan     Audi                     Q5  2,011    Blue   \n",
              "2058  VHL17473   Ibadan   Toyota                  Camry  2,015   Black   \n",
              "2059  VHL11480    Abuja    Lexus             IS 350 AWD  2,013   White   \n",
              "2060  VHL13881    Abuja  Pontiac                Torrent  2,009  Silver   \n",
              "\n",
              "              Type  Distance  \n",
              "0     Foreign Used   30524.0  \n",
              "1     Foreign Used       NaN  \n",
              "2     Foreign Used       NaN  \n",
              "3     Foreign Used  166839.0  \n",
              "4     Foreign Used   88862.0  \n",
              "...            ...       ...  \n",
              "2056  Foreign Used    2650.0  \n",
              "2057  Foreign Used   99000.0  \n",
              "2058  Foreign Used  108000.0  \n",
              "2059  Foreign Used   52485.0  \n",
              "2060  Foreign Used  124088.0  \n",
              "\n",
              "[2061 rows x 8 columns]"
            ],
            "text/html": [
              "\n",
              "  <div id=\"df-fd2a1643-18d5-4dd8-ade8-73db9087600b\">\n",
              "    <div class=\"colab-df-container\">\n",
              "      <div>\n",
              "<style scoped>\n",
              "    .dataframe tbody tr th:only-of-type {\n",
              "        vertical-align: middle;\n",
              "    }\n",
              "\n",
              "    .dataframe tbody tr th {\n",
              "        vertical-align: top;\n",
              "    }\n",
              "\n",
              "    .dataframe thead th {\n",
              "        text-align: right;\n",
              "    }\n",
              "</style>\n",
              "<table border=\"1\" class=\"dataframe\">\n",
              "  <thead>\n",
              "    <tr style=\"text-align: right;\">\n",
              "      <th></th>\n",
              "      <th>VehicleID</th>\n",
              "      <th>Location</th>\n",
              "      <th>Maker</th>\n",
              "      <th>Model</th>\n",
              "      <th>Year</th>\n",
              "      <th>Colour</th>\n",
              "      <th>Type</th>\n",
              "      <th>Distance</th>\n",
              "    </tr>\n",
              "  </thead>\n",
              "  <tbody>\n",
              "    <tr>\n",
              "      <th>0</th>\n",
              "      <td>VHL18518</td>\n",
              "      <td>Abuja</td>\n",
              "      <td>BMW</td>\n",
              "      <td>323i</td>\n",
              "      <td>2,008</td>\n",
              "      <td>White</td>\n",
              "      <td>Foreign Used</td>\n",
              "      <td>30524.0</td>\n",
              "    </tr>\n",
              "    <tr>\n",
              "      <th>1</th>\n",
              "      <td>VHL17149</td>\n",
              "      <td>Lagos</td>\n",
              "      <td>Toyota</td>\n",
              "      <td>Camry</td>\n",
              "      <td>2,013</td>\n",
              "      <td>White</td>\n",
              "      <td>Foreign Used</td>\n",
              "      <td>NaN</td>\n",
              "    </tr>\n",
              "    <tr>\n",
              "      <th>2</th>\n",
              "      <td>VHL10927</td>\n",
              "      <td>Lagos</td>\n",
              "      <td>Toyota</td>\n",
              "      <td>Highlander Limited V6</td>\n",
              "      <td>2,005</td>\n",
              "      <td>Gold</td>\n",
              "      <td>Foreign Used</td>\n",
              "      <td>NaN</td>\n",
              "    </tr>\n",
              "    <tr>\n",
              "      <th>3</th>\n",
              "      <td>VHL12909</td>\n",
              "      <td>Lagos</td>\n",
              "      <td>Toyota</td>\n",
              "      <td>Camry</td>\n",
              "      <td>2,011</td>\n",
              "      <td>Gray</td>\n",
              "      <td>Foreign Used</td>\n",
              "      <td>166839.0</td>\n",
              "    </tr>\n",
              "    <tr>\n",
              "      <th>4</th>\n",
              "      <td>VHL12348</td>\n",
              "      <td>Lagos</td>\n",
              "      <td>Lexus</td>\n",
              "      <td>ES 350 FWD</td>\n",
              "      <td>2,013</td>\n",
              "      <td>Red</td>\n",
              "      <td>Foreign Used</td>\n",
              "      <td>88862.0</td>\n",
              "    </tr>\n",
              "    <tr>\n",
              "      <th>...</th>\n",
              "      <td>...</td>\n",
              "      <td>...</td>\n",
              "      <td>...</td>\n",
              "      <td>...</td>\n",
              "      <td>...</td>\n",
              "      <td>...</td>\n",
              "      <td>...</td>\n",
              "      <td>...</td>\n",
              "    </tr>\n",
              "    <tr>\n",
              "      <th>2056</th>\n",
              "      <td>VHL17903</td>\n",
              "      <td>Abuja</td>\n",
              "      <td>Toyota</td>\n",
              "      <td>Avalon</td>\n",
              "      <td>2,020</td>\n",
              "      <td>Red</td>\n",
              "      <td>Foreign Used</td>\n",
              "      <td>2650.0</td>\n",
              "    </tr>\n",
              "    <tr>\n",
              "      <th>2057</th>\n",
              "      <td>VHL14018</td>\n",
              "      <td>Ibadan</td>\n",
              "      <td>Audi</td>\n",
              "      <td>Q5</td>\n",
              "      <td>2,011</td>\n",
              "      <td>Blue</td>\n",
              "      <td>Foreign Used</td>\n",
              "      <td>99000.0</td>\n",
              "    </tr>\n",
              "    <tr>\n",
              "      <th>2058</th>\n",
              "      <td>VHL17473</td>\n",
              "      <td>Ibadan</td>\n",
              "      <td>Toyota</td>\n",
              "      <td>Camry</td>\n",
              "      <td>2,015</td>\n",
              "      <td>Black</td>\n",
              "      <td>Foreign Used</td>\n",
              "      <td>108000.0</td>\n",
              "    </tr>\n",
              "    <tr>\n",
              "      <th>2059</th>\n",
              "      <td>VHL11480</td>\n",
              "      <td>Abuja</td>\n",
              "      <td>Lexus</td>\n",
              "      <td>IS 350 AWD</td>\n",
              "      <td>2,013</td>\n",
              "      <td>White</td>\n",
              "      <td>Foreign Used</td>\n",
              "      <td>52485.0</td>\n",
              "    </tr>\n",
              "    <tr>\n",
              "      <th>2060</th>\n",
              "      <td>VHL13881</td>\n",
              "      <td>Abuja</td>\n",
              "      <td>Pontiac</td>\n",
              "      <td>Torrent</td>\n",
              "      <td>2,009</td>\n",
              "      <td>Silver</td>\n",
              "      <td>Foreign Used</td>\n",
              "      <td>124088.0</td>\n",
              "    </tr>\n",
              "  </tbody>\n",
              "</table>\n",
              "<p>2061 rows × 8 columns</p>\n",
              "</div>\n",
              "      <button class=\"colab-df-convert\" onclick=\"convertToInteractive('df-fd2a1643-18d5-4dd8-ade8-73db9087600b')\"\n",
              "              title=\"Convert this dataframe to an interactive table.\"\n",
              "              style=\"display:none;\">\n",
              "        \n",
              "  <svg xmlns=\"http://www.w3.org/2000/svg\" height=\"24px\"viewBox=\"0 0 24 24\"\n",
              "       width=\"24px\">\n",
              "    <path d=\"M0 0h24v24H0V0z\" fill=\"none\"/>\n",
              "    <path d=\"M18.56 5.44l.94 2.06.94-2.06 2.06-.94-2.06-.94-.94-2.06-.94 2.06-2.06.94zm-11 1L8.5 8.5l.94-2.06 2.06-.94-2.06-.94L8.5 2.5l-.94 2.06-2.06.94zm10 10l.94 2.06.94-2.06 2.06-.94-2.06-.94-.94-2.06-.94 2.06-2.06.94z\"/><path d=\"M17.41 7.96l-1.37-1.37c-.4-.4-.92-.59-1.43-.59-.52 0-1.04.2-1.43.59L10.3 9.45l-7.72 7.72c-.78.78-.78 2.05 0 2.83L4 21.41c.39.39.9.59 1.41.59.51 0 1.02-.2 1.41-.59l7.78-7.78 2.81-2.81c.8-.78.8-2.07 0-2.86zM5.41 20L4 18.59l7.72-7.72 1.47 1.35L5.41 20z\"/>\n",
              "  </svg>\n",
              "      </button>\n",
              "      \n",
              "  <style>\n",
              "    .colab-df-container {\n",
              "      display:flex;\n",
              "      flex-wrap:wrap;\n",
              "      gap: 12px;\n",
              "    }\n",
              "\n",
              "    .colab-df-convert {\n",
              "      background-color: #E8F0FE;\n",
              "      border: none;\n",
              "      border-radius: 50%;\n",
              "      cursor: pointer;\n",
              "      display: none;\n",
              "      fill: #1967D2;\n",
              "      height: 32px;\n",
              "      padding: 0 0 0 0;\n",
              "      width: 32px;\n",
              "    }\n",
              "\n",
              "    .colab-df-convert:hover {\n",
              "      background-color: #E2EBFA;\n",
              "      box-shadow: 0px 1px 2px rgba(60, 64, 67, 0.3), 0px 1px 3px 1px rgba(60, 64, 67, 0.15);\n",
              "      fill: #174EA6;\n",
              "    }\n",
              "\n",
              "    [theme=dark] .colab-df-convert {\n",
              "      background-color: #3B4455;\n",
              "      fill: #D2E3FC;\n",
              "    }\n",
              "\n",
              "    [theme=dark] .colab-df-convert:hover {\n",
              "      background-color: #434B5C;\n",
              "      box-shadow: 0px 1px 3px 1px rgba(0, 0, 0, 0.15);\n",
              "      filter: drop-shadow(0px 1px 2px rgba(0, 0, 0, 0.3));\n",
              "      fill: #FFFFFF;\n",
              "    }\n",
              "  </style>\n",
              "\n",
              "      <script>\n",
              "        const buttonEl =\n",
              "          document.querySelector('#df-fd2a1643-18d5-4dd8-ade8-73db9087600b button.colab-df-convert');\n",
              "        buttonEl.style.display =\n",
              "          google.colab.kernel.accessAllowed ? 'block' : 'none';\n",
              "\n",
              "        async function convertToInteractive(key) {\n",
              "          const element = document.querySelector('#df-fd2a1643-18d5-4dd8-ade8-73db9087600b');\n",
              "          const dataTable =\n",
              "            await google.colab.kernel.invokeFunction('convertToInteractive',\n",
              "                                                     [key], {});\n",
              "          if (!dataTable) return;\n",
              "\n",
              "          const docLinkHtml = 'Like what you see? Visit the ' +\n",
              "            '<a target=\"_blank\" href=https://colab.research.google.com/notebooks/data_table.ipynb>data table notebook</a>'\n",
              "            + ' to learn more about interactive tables.';\n",
              "          element.innerHTML = '';\n",
              "          dataTable['output_type'] = 'display_data';\n",
              "          await google.colab.output.renderOutput(dataTable, element);\n",
              "          const docLink = document.createElement('div');\n",
              "          docLink.innerHTML = docLinkHtml;\n",
              "          element.appendChild(docLink);\n",
              "        }\n",
              "      </script>\n",
              "    </div>\n",
              "  </div>\n",
              "  "
            ]
          },
          "metadata": {},
          "execution_count": 70
        }
      ],
      "source": [
        "Test"
      ]
    },
    {
      "cell_type": "code",
      "execution_count": null,
      "metadata": {
        "colab": {
          "base_uri": "https://localhost:8080/"
        },
        "id": "oe5x0NSWB9pB",
        "outputId": "0dc1d94f-552c-455b-b7de-2e4d6d32a636"
      },
      "outputs": [
        {
          "output_type": "stream",
          "name": "stdout",
          "text": [
            "<class 'pandas.core.frame.DataFrame'>\n",
            "RangeIndex: 7205 entries, 0 to 7204\n",
            "Data columns (total 9 columns):\n",
            " #   Column                  Non-Null Count  Dtype  \n",
            "---  ------                  --------------  -----  \n",
            " 0   VehicleID               7205 non-null   object \n",
            " 1   Location                7205 non-null   object \n",
            " 2   Maker                   7205 non-null   object \n",
            " 3   Model                   7205 non-null   object \n",
            " 4   Year                    7184 non-null   object \n",
            " 5   Colour                  7205 non-null   object \n",
            " 6   Amount (Million Naira)  7188 non-null   float64\n",
            " 7   Type                    7008 non-null   object \n",
            " 8   Distance                4845 non-null   object \n",
            "dtypes: float64(1), object(8)\n",
            "memory usage: 506.7+ KB\n"
          ]
        }
      ],
      "source": [
        "Train.info()"
      ]
    },
    {
      "cell_type": "code",
      "execution_count": null,
      "metadata": {
        "colab": {
          "base_uri": "https://localhost:8080/",
          "height": 449
        },
        "id": "5YOhe4cdCFRL",
        "outputId": "26e8ffeb-c5cd-47ab-efa7-5c9d50a414a7"
      },
      "outputs": [
        {
          "output_type": "display_data",
          "data": {
            "text/plain": [
              "<Figure size 720x504 with 1 Axes>"
            ],
            "image/png": "[encoded data removed]"
          },
          "metadata": {}
        }
      ],
      "source": [
        "ax = Train.isna().sum().sort_values().plot(kind='barh', figsize=(10,7))\n",
        "plt.title('Percentage of missing values per columns in Train set', fontdict={'size':15})\n",
        "for p in ax.patches:\n",
        "  percentage = '{:,.0f}%'.format((p.get_width()/Train.shape[0])*100)\n",
        "  width, height = p.get_width(), p.get_height()\n",
        "  x = p.get_x()+width+0.2\n",
        "  y = p.get_y()+height/2\n",
        "  ax.annotate(percentage,(x,y))"
      ]
    },
    {
      "cell_type": "code",
      "execution_count": null,
      "metadata": {
        "colab": {
          "base_uri": "https://localhost:8080/",
          "height": 449
        },
        "id": "2_FOJ3KXEJrU",
        "outputId": "b10f6f62-e760-47c1-cbad-a870d9290ef5"
      },
      "outputs": [
        {
          "output_type": "display_data",
          "data": {
            "text/plain": [
              "<Figure size 720x504 with 1 Axes>"
            ],
            "image/png": "[encoded data removed]"
          },
          "metadata": {}
        }
      ],
      "source": [
        "ax = Test.isna().sum().sort_values().plot(kind='barh', figsize=(10,7))\n",
        "plt.title('Percentage of missing values per columns in Test set', fontdict={'size':15})\n",
        "for p in ax.patches:\n",
        "  percentage = '{:,.0f}%'.format((p.get_width()/Test.shape[0])*100)\n",
        "  width, height = p.get_width(), p.get_height()\n",
        "  x = p.get_x()+width+0.2\n",
        "  y = p.get_y()+height/2\n",
        "  ax.annotate(percentage,(x,y))"
      ]
    },
    {
      "cell_type": "code",
      "execution_count": null,
      "metadata": {
        "id": "VLJepqITVPBa"
      },
      "outputs": [],
      "source": [
        "Train['Amount (Million Naira)'] = Train['Amount (Million Naira)'].fillna(Train['Amount (Million Naira)'].median())"
      ]
    },
    {
      "cell_type": "markdown",
      "metadata": {
        "id": "RfmhdEJg82yF"
      },
      "source": [
        "###Preprocessing"
      ]
    },
    {
      "cell_type": "code",
      "execution_count": null,
      "metadata": {
        "colab": {
          "base_uri": "https://localhost:8080/",
          "height": 659
        },
        "id": "ewPrMRKSEks3",
        "outputId": "90a617c3-78d2-4e21-86f5-770659208144"
      },
      "outputs": [
        {
          "output_type": "execute_result",
          "data": {
            "text/plain": [
              "     VehicleID Location          Maker                Model   Year  Colour  \\\n",
              "0     VHL12546    Abuja          Honda  Accord Coupe EX V-6  2,011  Silver   \n",
              "1     VHL18827   Ibadan        Hyundai               Sonata  2,012  Silver   \n",
              "2     VHL19499    Lagos          Lexus               RX 350  2,010     Red   \n",
              "3     VHL17991    Abuja  Mercedes-Benz            GLE-Class  2,017    Blue   \n",
              "4     VHL12170   Ibadan         Toyota           Highlander  2,002     Red   \n",
              "...        ...      ...            ...                  ...    ...     ...   \n",
              "9261  VHL17903    Abuja         Toyota               Avalon  2,020     Red   \n",
              "9262  VHL14018   Ibadan           Audi                   Q5  2,011    Blue   \n",
              "9263  VHL17473   Ibadan         Toyota                Camry  2,015   Black   \n",
              "9264  VHL11480    Abuja          Lexus           IS 350 AWD  2,013   White   \n",
              "9265  VHL13881    Abuja        Pontiac              Torrent  2,009  Silver   \n",
              "\n",
              "      Amount (Million Naira)           Type  Distance    tag  \n",
              "0                        2.2  Nigerian Used       NaN  Train  \n",
              "1                        3.5  Nigerian Used   125,000  Train  \n",
              "2                        9.2   Foreign Used   110,852  Train  \n",
              "3                       22.8   Foreign Used    30,000  Train  \n",
              "4                        2.6  Nigerian Used   125,206  Train  \n",
              "...                      ...            ...       ...    ...  \n",
              "9261                     NaN   Foreign Used    2650.0   Test  \n",
              "9262                     NaN   Foreign Used   99000.0   Test  \n",
              "9263                     NaN   Foreign Used  108000.0   Test  \n",
              "9264                     NaN   Foreign Used   52485.0   Test  \n",
              "9265                     NaN   Foreign Used  124088.0   Test  \n",
              "\n",
              "[9266 rows x 10 columns]"
            ],
            "text/html": [
              "\n",
              "  <div id=\"df-fe1068a4-94b6-42b8-8d98-e9b70c47abbd\">\n",
              "    <div class=\"colab-df-container\">\n",
              "      <div>\n",
              "<style scoped>\n",
              "    .dataframe tbody tr th:only-of-type {\n",
              "        vertical-align: middle;\n",
              "    }\n",
              "\n",
              "    .dataframe tbody tr th {\n",
              "        vertical-align: top;\n",
              "    }\n",
              "\n",
              "    .dataframe thead th {\n",
              "        text-align: right;\n",
              "    }\n",
              "</style>\n",
              "<table border=\"1\" class=\"dataframe\">\n",
              "  <thead>\n",
              "    <tr style=\"text-align: right;\">\n",
              "      <th></th>\n",
              "      <th>VehicleID</th>\n",
              "      <th>Location</th>\n",
              "      <th>Maker</th>\n",
              "      <th>Model</th>\n",
              "      <th>Year</th>\n",
              "      <th>Colour</th>\n",
              "      <th>Amount (Million Naira)</th>\n",
              "      <th>Type</th>\n",
              "      <th>Distance</th>\n",
              "      <th>tag</th>\n",
              "    </tr>\n",
              "  </thead>\n",
              "  <tbody>\n",
              "    <tr>\n",
              "      <th>0</th>\n",
              "      <td>VHL12546</td>\n",
              "      <td>Abuja</td>\n",
              "      <td>Honda</td>\n",
              "      <td>Accord Coupe EX V-6</td>\n",
              "      <td>2,011</td>\n",
              "      <td>Silver</td>\n",
              "      <td>2.2</td>\n",
              "      <td>Nigerian Used</td>\n",
              "      <td>NaN</td>\n",
              "      <td>Train</td>\n",
              "    </tr>\n",
              "    <tr>\n",
              "      <th>1</th>\n",
              "      <td>VHL18827</td>\n",
              "      <td>Ibadan</td>\n",
              "      <td>Hyundai</td>\n",
              "      <td>Sonata</td>\n",
              "      <td>2,012</td>\n",
              "      <td>Silver</td>\n",
              "      <td>3.5</td>\n",
              "      <td>Nigerian Used</td>\n",
              "      <td>125,000</td>\n",
              "      <td>Train</td>\n",
              "    </tr>\n",
              "    <tr>\n",
              "      <th>2</th>\n",
              "      <td>VHL19499</td>\n",
              "      <td>Lagos</td>\n",
              "      <td>Lexus</td>\n",
              "      <td>RX 350</td>\n",
              "      <td>2,010</td>\n",
              "      <td>Red</td>\n",
              "      <td>9.2</td>\n",
              "      <td>Foreign Used</td>\n",
              "      <td>110,852</td>\n",
              "      <td>Train</td>\n",
              "    </tr>\n",
              "    <tr>\n",
              "      <th>3</th>\n",
              "      <td>VHL17991</td>\n",
              "      <td>Abuja</td>\n",
              "      <td>Mercedes-Benz</td>\n",
              "      <td>GLE-Class</td>\n",
              "      <td>2,017</td>\n",
              "      <td>Blue</td>\n",
              "      <td>22.8</td>\n",
              "      <td>Foreign Used</td>\n",
              "      <td>30,000</td>\n",
              "      <td>Train</td>\n",
              "    </tr>\n",
              "    <tr>\n",
              "      <th>4</th>\n",
              "      <td>VHL12170</td>\n",
              "      <td>Ibadan</td>\n",
              "      <td>Toyota</td>\n",
              "      <td>Highlander</td>\n",
              "      <td>2,002</td>\n",
              "      <td>Red</td>\n",
              "      <td>2.6</td>\n",
              "      <td>Nigerian Used</td>\n",
              "      <td>125,206</td>\n",
              "      <td>Train</td>\n",
              "    </tr>\n",
              "    <tr>\n",
              "      <th>...</th>\n",
              "      <td>...</td>\n",
              "      <td>...</td>\n",
              "      <td>...</td>\n",
              "      <td>...</td>\n",
              "      <td>...</td>\n",
              "      <td>...</td>\n",
              "      <td>...</td>\n",
              "      <td>...</td>\n",
              "      <td>...</td>\n",
              "      <td>...</td>\n",
              "    </tr>\n",
              "    <tr>\n",
              "      <th>9261</th>\n",
              "      <td>VHL17903</td>\n",
              "      <td>Abuja</td>\n",
              "      <td>Toyota</td>\n",
              "      <td>Avalon</td>\n",
              "      <td>2,020</td>\n",
              "      <td>Red</td>\n",
              "      <td>NaN</td>\n",
              "      <td>Foreign Used</td>\n",
              "      <td>2650.0</td>\n",
              "      <td>Test</td>\n",
              "    </tr>\n",
              "    <tr>\n",
              "      <th>9262</th>\n",
              "      <td>VHL14018</td>\n",
              "      <td>Ibadan</td>\n",
              "      <td>Audi</td>\n",
              "      <td>Q5</td>\n",
              "      <td>2,011</td>\n",
              "      <td>Blue</td>\n",
              "      <td>NaN</td>\n",
              "      <td>Foreign Used</td>\n",
              "      <td>99000.0</td>\n",
              "      <td>Test</td>\n",
              "    </tr>\n",
              "    <tr>\n",
              "      <th>9263</th>\n",
              "      <td>VHL17473</td>\n",
              "      <td>Ibadan</td>\n",
              "      <td>Toyota</td>\n",
              "      <td>Camry</td>\n",
              "      <td>2,015</td>\n",
              "      <td>Black</td>\n",
              "      <td>NaN</td>\n",
              "      <td>Foreign Used</td>\n",
              "      <td>108000.0</td>\n",
              "      <td>Test</td>\n",
              "    </tr>\n",
              "    <tr>\n",
              "      <th>9264</th>\n",
              "      <td>VHL11480</td>\n",
              "      <td>Abuja</td>\n",
              "      <td>Lexus</td>\n",
              "      <td>IS 350 AWD</td>\n",
              "      <td>2,013</td>\n",
              "      <td>White</td>\n",
              "      <td>NaN</td>\n",
              "      <td>Foreign Used</td>\n",
              "      <td>52485.0</td>\n",
              "      <td>Test</td>\n",
              "    </tr>\n",
              "    <tr>\n",
              "      <th>9265</th>\n",
              "      <td>VHL13881</td>\n",
              "      <td>Abuja</td>\n",
              "      <td>Pontiac</td>\n",
              "      <td>Torrent</td>\n",
              "      <td>2,009</td>\n",
              "      <td>Silver</td>\n",
              "      <td>NaN</td>\n",
              "      <td>Foreign Used</td>\n",
              "      <td>124088.0</td>\n",
              "      <td>Test</td>\n",
              "    </tr>\n",
              "  </tbody>\n",
              "</table>\n",
              "<p>9266 rows × 10 columns</p>\n",
              "</div>\n",
              "      <button class=\"colab-df-convert\" onclick=\"convertToInteractive('df-fe1068a4-94b6-42b8-8d98-e9b70c47abbd')\"\n",
              "              title=\"Convert this dataframe to an interactive table.\"\n",
              "              style=\"display:none;\">\n",
              "        \n",
              "  <svg xmlns=\"http://www.w3.org/2000/svg\" height=\"24px\"viewBox=\"0 0 24 24\"\n",
              "       width=\"24px\">\n",
              "    <path d=\"M0 0h24v24H0V0z\" fill=\"none\"/>\n",
              "    <path d=\"M18.56 5.44l.94 2.06.94-2.06 2.06-.94-2.06-.94-.94-2.06-.94 2.06-2.06.94zm-11 1L8.5 8.5l.94-2.06 2.06-.94-2.06-.94L8.5 2.5l-.94 2.06-2.06.94zm10 10l.94 2.06.94-2.06 2.06-.94-2.06-.94-.94-2.06-.94 2.06-2.06.94z\"/><path d=\"M17.41 7.96l-1.37-1.37c-.4-.4-.92-.59-1.43-.59-.52 0-1.04.2-1.43.59L10.3 9.45l-7.72 7.72c-.78.78-.78 2.05 0 2.83L4 21.41c.39.39.9.59 1.41.59.51 0 1.02-.2 1.41-.59l7.78-7.78 2.81-2.81c.8-.78.8-2.07 0-2.86zM5.41 20L4 18.59l7.72-7.72 1.47 1.35L5.41 20z\"/>\n",
              "  </svg>\n",
              "      </button>\n",
              "      \n",
              "  <style>\n",
              "    .colab-df-container {\n",
              "      display:flex;\n",
              "      flex-wrap:wrap;\n",
              "      gap: 12px;\n",
              "    }\n",
              "\n",
              "    .colab-df-convert {\n",
              "      background-color: #E8F0FE;\n",
              "      border: none;\n",
              "      border-radius: 50%;\n",
              "      cursor: pointer;\n",
              "      display: none;\n",
              "      fill: #1967D2;\n",
              "      height: 32px;\n",
              "      padding: 0 0 0 0;\n",
              "      width: 32px;\n",
              "    }\n",
              "\n",
              "    .colab-df-convert:hover {\n",
              "      background-color: #E2EBFA;\n",
              "      box-shadow: 0px 1px 2px rgba(60, 64, 67, 0.3), 0px 1px 3px 1px rgba(60, 64, 67, 0.15);\n",
              "      fill: #174EA6;\n",
              "    }\n",
              "\n",
              "    [theme=dark] .colab-df-convert {\n",
              "      background-color: #3B4455;\n",
              "      fill: #D2E3FC;\n",
              "    }\n",
              "\n",
              "    [theme=dark] .colab-df-convert:hover {\n",
              "      background-color: #434B5C;\n",
              "      box-shadow: 0px 1px 3px 1px rgba(0, 0, 0, 0.15);\n",
              "      filter: drop-shadow(0px 1px 2px rgba(0, 0, 0, 0.3));\n",
              "      fill: #FFFFFF;\n",
              "    }\n",
              "  </style>\n",
              "\n",
              "      <script>\n",
              "        const buttonEl =\n",
              "          document.querySelector('#df-fe1068a4-94b6-42b8-8d98-e9b70c47abbd button.colab-df-convert');\n",
              "        buttonEl.style.display =\n",
              "          google.colab.kernel.accessAllowed ? 'block' : 'none';\n",
              "\n",
              "        async function convertToInteractive(key) {\n",
              "          const element = document.querySelector('#df-fe1068a4-94b6-42b8-8d98-e9b70c47abbd');\n",
              "          const dataTable =\n",
              "            await google.colab.kernel.invokeFunction('convertToInteractive',\n",
              "                                                     [key], {});\n",
              "          if (!dataTable) return;\n",
              "\n",
              "          const docLinkHtml = 'Like what you see? Visit the ' +\n",
              "            '<a target=\"_blank\" href=https://colab.research.google.com/notebooks/data_table.ipynb>data table notebook</a>'\n",
              "            + ' to learn more about interactive tables.';\n",
              "          element.innerHTML = '';\n",
              "          dataTable['output_type'] = 'display_data';\n",
              "          await google.colab.output.renderOutput(dataTable, element);\n",
              "          const docLink = document.createElement('div');\n",
              "          docLink.innerHTML = docLinkHtml;\n",
              "          element.appendChild(docLink);\n",
              "        }\n",
              "      </script>\n",
              "    </div>\n",
              "  </div>\n",
              "  "
            ]
          },
          "metadata": {},
          "execution_count": 75
        }
      ],
      "source": [
        "Train['tag'] = 'Train'\n",
        "Test['tag'] = 'Test'\n",
        "data = pd.concat([Train,Test]).reset_index(drop=True)\n",
        "data"
      ]
    },
    {
      "cell_type": "code",
      "execution_count": null,
      "metadata": {
        "colab": {
          "base_uri": "https://localhost:8080/"
        },
        "id": "msy4jzBuAtDX",
        "outputId": "5111abe1-7d47-407f-bfa5-9e2777fd13a5"
      },
      "outputs": [
        {
          "output_type": "execute_result",
          "data": {
            "text/plain": [
              "Type         251\n",
              "Distance    3036\n",
              "Year          23\n",
              "dtype: int64"
            ]
          },
          "metadata": {},
          "execution_count": 76
        }
      ],
      "source": [
        "data[['Type', 'Distance','Year']].isna().sum()"
      ]
    },
    {
      "cell_type": "code",
      "execution_count": null,
      "metadata": {
        "id": "IKoh-dlt3HJO"
      },
      "outputs": [],
      "source": [
        "missing_cols = data[['Type', 'Distance','Year']].copy()\n",
        "missing_cols[['Distance','Year']] = missing_cols[['Distance','Year']].astype('str')"
      ]
    },
    {
      "cell_type": "code",
      "execution_count": null,
      "metadata": {
        "id": "vOboiRGI4CTt"
      },
      "outputs": [],
      "source": [
        "missing_cols['Year'] = missing_cols['Year'].apply(lambda x:x.replace(',',''))\n",
        "missing_cols['Distance'] = missing_cols['Distance'].apply(lambda x:x.replace(',',''))"
      ]
    },
    {
      "cell_type": "code",
      "execution_count": null,
      "metadata": {
        "id": "fbklp8S2ELT7"
      },
      "outputs": [],
      "source": [
        "missing_cols[['Year','Distance']] = missing_cols[['Year','Distance']].astype('float')"
      ]
    },
    {
      "cell_type": "code",
      "execution_count": null,
      "metadata": {
        "colab": {
          "base_uri": "https://localhost:8080/",
          "height": 424
        },
        "id": "5GZ2I_cx5bWO",
        "outputId": "6d5ff106-c3ee-4216-d448-5da10159a136"
      },
      "outputs": [
        {
          "output_type": "execute_result",
          "data": {
            "text/plain": [
              "               Type  Distance    Year\n",
              "0     Nigerian Used       NaN  2011.0\n",
              "1     Nigerian Used  125000.0  2012.0\n",
              "2      Foreign Used  110852.0  2010.0\n",
              "3      Foreign Used   30000.0  2017.0\n",
              "4     Nigerian Used  125206.0  2002.0\n",
              "...             ...       ...     ...\n",
              "9261   Foreign Used    2650.0  2020.0\n",
              "9262   Foreign Used   99000.0  2011.0\n",
              "9263   Foreign Used  108000.0  2015.0\n",
              "9264   Foreign Used   52485.0  2013.0\n",
              "9265   Foreign Used  124088.0  2009.0\n",
              "\n",
              "[9266 rows x 3 columns]"
            ],
            "text/html": [
              "\n",
              "  <div id=\"df-bafff5f0-39e4-4aa9-94e0-721868d96d36\">\n",
              "    <div class=\"colab-df-container\">\n",
              "      <div>\n",
              "<style scoped>\n",
              "    .dataframe tbody tr th:only-of-type {\n",
              "        vertical-align: middle;\n",
              "    }\n",
              "\n",
              "    .dataframe tbody tr th {\n",
              "        vertical-align: top;\n",
              "    }\n",
              "\n",
              "    .dataframe thead th {\n",
              "        text-align: right;\n",
              "    }\n",
              "</style>\n",
              "<table border=\"1\" class=\"dataframe\">\n",
              "  <thead>\n",
              "    <tr style=\"text-align: right;\">\n",
              "      <th></th>\n",
              "      <th>Type</th>\n",
              "      <th>Distance</th>\n",
              "      <th>Year</th>\n",
              "    </tr>\n",
              "  </thead>\n",
              "  <tbody>\n",
              "    <tr>\n",
              "      <th>0</th>\n",
              "      <td>Nigerian Used</td>\n",
              "      <td>NaN</td>\n",
              "      <td>2011.0</td>\n",
              "    </tr>\n",
              "    <tr>\n",
              "      <th>1</th>\n",
              "      <td>Nigerian Used</td>\n",
              "      <td>125000.0</td>\n",
              "      <td>2012.0</td>\n",
              "    </tr>\n",
              "    <tr>\n",
              "      <th>2</th>\n",
              "      <td>Foreign Used</td>\n",
              "      <td>110852.0</td>\n",
              "      <td>2010.0</td>\n",
              "    </tr>\n",
              "    <tr>\n",
              "      <th>3</th>\n",
              "      <td>Foreign Used</td>\n",
              "      <td>30000.0</td>\n",
              "      <td>2017.0</td>\n",
              "    </tr>\n",
              "    <tr>\n",
              "      <th>4</th>\n",
              "      <td>Nigerian Used</td>\n",
              "      <td>125206.0</td>\n",
              "      <td>2002.0</td>\n",
              "    </tr>\n",
              "    <tr>\n",
              "      <th>...</th>\n",
              "      <td>...</td>\n",
              "      <td>...</td>\n",
              "      <td>...</td>\n",
              "    </tr>\n",
              "    <tr>\n",
              "      <th>9261</th>\n",
              "      <td>Foreign Used</td>\n",
              "      <td>2650.0</td>\n",
              "      <td>2020.0</td>\n",
              "    </tr>\n",
              "    <tr>\n",
              "      <th>9262</th>\n",
              "      <td>Foreign Used</td>\n",
              "      <td>99000.0</td>\n",
              "      <td>2011.0</td>\n",
              "    </tr>\n",
              "    <tr>\n",
              "      <th>9263</th>\n",
              "      <td>Foreign Used</td>\n",
              "      <td>108000.0</td>\n",
              "      <td>2015.0</td>\n",
              "    </tr>\n",
              "    <tr>\n",
              "      <th>9264</th>\n",
              "      <td>Foreign Used</td>\n",
              "      <td>52485.0</td>\n",
              "      <td>2013.0</td>\n",
              "    </tr>\n",
              "    <tr>\n",
              "      <th>9265</th>\n",
              "      <td>Foreign Used</td>\n",
              "      <td>124088.0</td>\n",
              "      <td>2009.0</td>\n",
              "    </tr>\n",
              "  </tbody>\n",
              "</table>\n",
              "<p>9266 rows × 3 columns</p>\n",
              "</div>\n",
              "      <button class=\"colab-df-convert\" onclick=\"convertToInteractive('df-bafff5f0-39e4-4aa9-94e0-721868d96d36')\"\n",
              "              title=\"Convert this dataframe to an interactive table.\"\n",
              "              style=\"display:none;\">\n",
              "        \n",
              "  <svg xmlns=\"http://www.w3.org/2000/svg\" height=\"24px\"viewBox=\"0 0 24 24\"\n",
              "       width=\"24px\">\n",
              "    <path d=\"M0 0h24v24H0V0z\" fill=\"none\"/>\n",
              "    <path d=\"M18.56 5.44l.94 2.06.94-2.06 2.06-.94-2.06-.94-.94-2.06-.94 2.06-2.06.94zm-11 1L8.5 8.5l.94-2.06 2.06-.94-2.06-.94L8.5 2.5l-.94 2.06-2.06.94zm10 10l.94 2.06.94-2.06 2.06-.94-2.06-.94-.94-2.06-.94 2.06-2.06.94z\"/><path d=\"M17.41 7.96l-1.37-1.37c-.4-.4-.92-.59-1.43-.59-.52 0-1.04.2-1.43.59L10.3 9.45l-7.72 7.72c-.78.78-.78 2.05 0 2.83L4 21.41c.39.39.9.59 1.41.59.51 0 1.02-.2 1.41-.59l7.78-7.78 2.81-2.81c.8-.78.8-2.07 0-2.86zM5.41 20L4 18.59l7.72-7.72 1.47 1.35L5.41 20z\"/>\n",
              "  </svg>\n",
              "      </button>\n",
              "      \n",
              "  <style>\n",
              "    .colab-df-container {\n",
              "      display:flex;\n",
              "      flex-wrap:wrap;\n",
              "      gap: 12px;\n",
              "    }\n",
              "\n",
              "    .colab-df-convert {\n",
              "      background-color: #E8F0FE;\n",
              "      border: none;\n",
              "      border-radius: 50%;\n",
              "      cursor: pointer;\n",
              "      display: none;\n",
              "      fill: #1967D2;\n",
              "      height: 32px;\n",
              "      padding: 0 0 0 0;\n",
              "      width: 32px;\n",
              "    }\n",
              "\n",
              "    .colab-df-convert:hover {\n",
              "      background-color: #E2EBFA;\n",
              "      box-shadow: 0px 1px 2px rgba(60, 64, 67, 0.3), 0px 1px 3px 1px rgba(60, 64, 67, 0.15);\n",
              "      fill: #174EA6;\n",
              "    }\n",
              "\n",
              "    [theme=dark] .colab-df-convert {\n",
              "      background-color: #3B4455;\n",
              "      fill: #D2E3FC;\n",
              "    }\n",
              "\n",
              "    [theme=dark] .colab-df-convert:hover {\n",
              "      background-color: #434B5C;\n",
              "      box-shadow: 0px 1px 3px 1px rgba(0, 0, 0, 0.15);\n",
              "      filter: drop-shadow(0px 1px 2px rgba(0, 0, 0, 0.3));\n",
              "      fill: #FFFFFF;\n",
              "    }\n",
              "  </style>\n",
              "\n",
              "      <script>\n",
              "        const buttonEl =\n",
              "          document.querySelector('#df-bafff5f0-39e4-4aa9-94e0-721868d96d36 button.colab-df-convert');\n",
              "        buttonEl.style.display =\n",
              "          google.colab.kernel.accessAllowed ? 'block' : 'none';\n",
              "\n",
              "        async function convertToInteractive(key) {\n",
              "          const element = document.querySelector('#df-bafff5f0-39e4-4aa9-94e0-721868d96d36');\n",
              "          const dataTable =\n",
              "            await google.colab.kernel.invokeFunction('convertToInteractive',\n",
              "                                                     [key], {});\n",
              "          if (!dataTable) return;\n",
              "\n",
              "          const docLinkHtml = 'Like what you see? Visit the ' +\n",
              "            '<a target=\"_blank\" href=https://colab.research.google.com/notebooks/data_table.ipynb>data table notebook</a>'\n",
              "            + ' to learn more about interactive tables.';\n",
              "          element.innerHTML = '';\n",
              "          dataTable['output_type'] = 'display_data';\n",
              "          await google.colab.output.renderOutput(dataTable, element);\n",
              "          const docLink = document.createElement('div');\n",
              "          docLink.innerHTML = docLinkHtml;\n",
              "          element.appendChild(docLink);\n",
              "        }\n",
              "      </script>\n",
              "    </div>\n",
              "  </div>\n",
              "  "
            ]
          },
          "metadata": {},
          "execution_count": 80
        }
      ],
      "source": [
        "missing_cols"
      ]
    },
    {
      "cell_type": "code",
      "execution_count": null,
      "metadata": {
        "colab": {
          "base_uri": "https://localhost:8080/"
        },
        "id": "nCjh2uzICw0A",
        "outputId": "4c4f89f4-72df-4178-b259-49554ace5bc5"
      },
      "outputs": [
        {
          "output_type": "execute_result",
          "data": {
            "text/plain": [
              "Foreign Used     6286\n",
              "Nigerian Used    2442\n",
              "Brand New         287\n",
              "Name: Type, dtype: int64"
            ]
          },
          "metadata": {},
          "execution_count": 81
        }
      ],
      "source": [
        "missing_cols['Type'].value_counts()"
      ]
    },
    {
      "cell_type": "code",
      "execution_count": null,
      "metadata": {
        "id": "wl5aBB5OET8M"
      },
      "outputs": [],
      "source": [
        "from sklearn.impute import SimpleImputer\n",
        "imp = SimpleImputer(strategy='most_frequent')\n",
        "missing_cols['Type'] = imp.fit_transform(missing_cols[['Type']])"
      ]
    },
    {
      "cell_type": "code",
      "execution_count": null,
      "metadata": {
        "id": "ggA6KXFCMvUQ"
      },
      "outputs": [],
      "source": [
        "imp = SimpleImputer(strategy='mean')\n",
        "missing_cols['Distance'] = imp.fit_transform(missing_cols[['Distance']])"
      ]
    },
    {
      "cell_type": "code",
      "execution_count": null,
      "metadata": {
        "id": "q6FeOm_JFqXb"
      },
      "outputs": [],
      "source": [
        "imp = SimpleImputer(strategy='most_frequent')\n",
        "missing_cols['Year'] = imp.fit_transform(missing_cols[['Year']])"
      ]
    },
    {
      "cell_type": "code",
      "execution_count": null,
      "metadata": {
        "id": "thboVDKGGgpT"
      },
      "outputs": [],
      "source": [
        "data[['Type', 'Distance','Year']] = missing_cols"
      ]
    },
    {
      "cell_type": "code",
      "execution_count": null,
      "metadata": {
        "colab": {
          "base_uri": "https://localhost:8080/",
          "height": 300
        },
        "id": "Q_vxlLFRGw0E",
        "outputId": "7d61f845-6287-4bc6-f41e-f19f4f4c7eca"
      },
      "outputs": [
        {
          "output_type": "execute_result",
          "data": {
            "text/plain": [
              "              Year  Amount (Million Naira)      Distance\n",
              "count  9266.000000             7205.000000  9.266000e+03\n",
              "mean   2011.035074               11.833375  1.033327e+05\n",
              "std       4.874946               25.290819  9.483535e+04\n",
              "min    1979.000000                0.450000  1.000000e+00\n",
              "25%    2008.000000                3.500000  6.717400e+04\n",
              "50%    2011.000000                5.650000  1.033327e+05\n",
              "75%    2014.000000               11.500000  1.033327e+05\n",
              "max    2022.000000              456.000000  1.985400e+06"
            ],
            "text/html": [
              "\n",
              "  <div id=\"df-d92a2f7b-6749-4f4b-baca-e9bbf14dee95\">\n",
              "    <div class=\"colab-df-container\">\n",
              "      <div>\n",
              "<style scoped>\n",
              "    .dataframe tbody tr th:only-of-type {\n",
              "        vertical-align: middle;\n",
              "    }\n",
              "\n",
              "    .dataframe tbody tr th {\n",
              "        vertical-align: top;\n",
              "    }\n",
              "\n",
              "    .dataframe thead th {\n",
              "        text-align: right;\n",
              "    }\n",
              "</style>\n",
              "<table border=\"1\" class=\"dataframe\">\n",
              "  <thead>\n",
              "    <tr style=\"text-align: right;\">\n",
              "      <th></th>\n",
              "      <th>Year</th>\n",
              "      <th>Amount (Million Naira)</th>\n",
              "      <th>Distance</th>\n",
              "    </tr>\n",
              "  </thead>\n",
              "  <tbody>\n",
              "    <tr>\n",
              "      <th>count</th>\n",
              "      <td>9266.000000</td>\n",
              "      <td>7205.000000</td>\n",
              "      <td>9.266000e+03</td>\n",
              "    </tr>\n",
              "    <tr>\n",
              "      <th>mean</th>\n",
              "      <td>2011.035074</td>\n",
              "      <td>11.833375</td>\n",
              "      <td>1.033327e+05</td>\n",
              "    </tr>\n",
              "    <tr>\n",
              "      <th>std</th>\n",
              "      <td>4.874946</td>\n",
              "      <td>25.290819</td>\n",
              "      <td>9.483535e+04</td>\n",
              "    </tr>\n",
              "    <tr>\n",
              "      <th>min</th>\n",
              "      <td>1979.000000</td>\n",
              "      <td>0.450000</td>\n",
              "      <td>1.000000e+00</td>\n",
              "    </tr>\n",
              "    <tr>\n",
              "      <th>25%</th>\n",
              "      <td>2008.000000</td>\n",
              "      <td>3.500000</td>\n",
              "      <td>6.717400e+04</td>\n",
              "    </tr>\n",
              "    <tr>\n",
              "      <th>50%</th>\n",
              "      <td>2011.000000</td>\n",
              "      <td>5.650000</td>\n",
              "      <td>1.033327e+05</td>\n",
              "    </tr>\n",
              "    <tr>\n",
              "      <th>75%</th>\n",
              "      <td>2014.000000</td>\n",
              "      <td>11.500000</td>\n",
              "      <td>1.033327e+05</td>\n",
              "    </tr>\n",
              "    <tr>\n",
              "      <th>max</th>\n",
              "      <td>2022.000000</td>\n",
              "      <td>456.000000</td>\n",
              "      <td>1.985400e+06</td>\n",
              "    </tr>\n",
              "  </tbody>\n",
              "</table>\n",
              "</div>\n",
              "      <button class=\"colab-df-convert\" onclick=\"convertToInteractive('df-d92a2f7b-6749-4f4b-baca-e9bbf14dee95')\"\n",
              "              title=\"Convert this dataframe to an interactive table.\"\n",
              "              style=\"display:none;\">\n",
              "        \n",
              "  <svg xmlns=\"http://www.w3.org/2000/svg\" height=\"24px\"viewBox=\"0 0 24 24\"\n",
              "       width=\"24px\">\n",
              "    <path d=\"M0 0h24v24H0V0z\" fill=\"none\"/>\n",
              "    <path d=\"M18.56 5.44l.94 2.06.94-2.06 2.06-.94-2.06-.94-.94-2.06-.94 2.06-2.06.94zm-11 1L8.5 8.5l.94-2.06 2.06-.94-2.06-.94L8.5 2.5l-.94 2.06-2.06.94zm10 10l.94 2.06.94-2.06 2.06-.94-2.06-.94-.94-2.06-.94 2.06-2.06.94z\"/><path d=\"M17.41 7.96l-1.37-1.37c-.4-.4-.92-.59-1.43-.59-.52 0-1.04.2-1.43.59L10.3 9.45l-7.72 7.72c-.78.78-.78 2.05 0 2.83L4 21.41c.39.39.9.59 1.41.59.51 0 1.02-.2 1.41-.59l7.78-7.78 2.81-2.81c.8-.78.8-2.07 0-2.86zM5.41 20L4 18.59l7.72-7.72 1.47 1.35L5.41 20z\"/>\n",
              "  </svg>\n",
              "      </button>\n",
              "      \n",
              "  <style>\n",
              "    .colab-df-container {\n",
              "      display:flex;\n",
              "      flex-wrap:wrap;\n",
              "      gap: 12px;\n",
              "    }\n",
              "\n",
              "    .colab-df-convert {\n",
              "      background-color: #E8F0FE;\n",
              "      border: none;\n",
              "      border-radius: 50%;\n",
              "      cursor: pointer;\n",
              "      display: none;\n",
              "      fill: #1967D2;\n",
              "      height: 32px;\n",
              "      padding: 0 0 0 0;\n",
              "      width: 32px;\n",
              "    }\n",
              "\n",
              "    .colab-df-convert:hover {\n",
              "      background-color: #E2EBFA;\n",
              "      box-shadow: 0px 1px 2px rgba(60, 64, 67, 0.3), 0px 1px 3px 1px rgba(60, 64, 67, 0.15);\n",
              "      fill: #174EA6;\n",
              "    }\n",
              "\n",
              "    [theme=dark] .colab-df-convert {\n",
              "      background-color: #3B4455;\n",
              "      fill: #D2E3FC;\n",
              "    }\n",
              "\n",
              "    [theme=dark] .colab-df-convert:hover {\n",
              "      background-color: #434B5C;\n",
              "      box-shadow: 0px 1px 3px 1px rgba(0, 0, 0, 0.15);\n",
              "      filter: drop-shadow(0px 1px 2px rgba(0, 0, 0, 0.3));\n",
              "      fill: #FFFFFF;\n",
              "    }\n",
              "  </style>\n",
              "\n",
              "      <script>\n",
              "        const buttonEl =\n",
              "          document.querySelector('#df-d92a2f7b-6749-4f4b-baca-e9bbf14dee95 button.colab-df-convert');\n",
              "        buttonEl.style.display =\n",
              "          google.colab.kernel.accessAllowed ? 'block' : 'none';\n",
              "\n",
              "        async function convertToInteractive(key) {\n",
              "          const element = document.querySelector('#df-d92a2f7b-6749-4f4b-baca-e9bbf14dee95');\n",
              "          const dataTable =\n",
              "            await google.colab.kernel.invokeFunction('convertToInteractive',\n",
              "                                                     [key], {});\n",
              "          if (!dataTable) return;\n",
              "\n",
              "          const docLinkHtml = 'Like what you see? Visit the ' +\n",
              "            '<a target=\"_blank\" href=https://colab.research.google.com/notebooks/data_table.ipynb>data table notebook</a>'\n",
              "            + ' to learn more about interactive tables.';\n",
              "          element.innerHTML = '';\n",
              "          dataTable['output_type'] = 'display_data';\n",
              "          await google.colab.output.renderOutput(dataTable, element);\n",
              "          const docLink = document.createElement('div');\n",
              "          docLink.innerHTML = docLinkHtml;\n",
              "          element.appendChild(docLink);\n",
              "        }\n",
              "      </script>\n",
              "    </div>\n",
              "  </div>\n",
              "  "
            ]
          },
          "metadata": {},
          "execution_count": 86
        }
      ],
      "source": [
        "data.describe()"
      ]
    },
    {
      "cell_type": "code",
      "execution_count": null,
      "metadata": {
        "colab": {
          "base_uri": "https://localhost:8080/"
        },
        "id": "P1n3zIzHWMj7",
        "outputId": "fe71d69d-b39d-4ddf-95e4-1ddcaf20d853"
      },
      "outputs": [
        {
          "output_type": "execute_result",
          "data": {
            "text/plain": [
              "436886.0500000001"
            ]
          },
          "metadata": {},
          "execution_count": 87
        }
      ],
      "source": [
        "np.percentile(data['Distance'],99)"
      ]
    },
    {
      "cell_type": "code",
      "execution_count": null,
      "metadata": {
        "colab": {
          "base_uri": "https://localhost:8080/",
          "height": 659
        },
        "id": "hxM-eqYSHDuM",
        "outputId": "76433925-e223-4ae1-cba2-9fa837e1f0d4"
      },
      "outputs": [
        {
          "output_type": "execute_result",
          "data": {
            "text/plain": [
              "     VehicleID Location    Maker                           Model    Year  \\\n",
              "81    VHL14035    Lagos   Toyota             4-Runner Limited V6  2005.0   \n",
              "123   VHL13228    Lagos    Lexus                     CT Base FWD  2016.0   \n",
              "253   VHL14533    Lagos     Ford  Edge SE 4dr FWD (3.5L 6cyl 6A)  2007.0   \n",
              "280   VHL17415   Ibadan   Toyota                           Camry  2008.0   \n",
              "320   VHL11011    Lagos    Lexus                          RX 350  2010.0   \n",
              "...        ...      ...      ...                             ...     ...   \n",
              "8593  VHL15801    Lagos    Acura                             MDX  2008.0   \n",
              "8610  VHL16953   Ibadan   Toyota                           Camry  2003.0   \n",
              "8790  VHL11177    Lagos   Toyota        Tacoma Double Cab V6 4WD  2004.0   \n",
              "8831  VHL14676    Lagos   Toyota                         Corolla  2010.0   \n",
              "8893  VHL16387    Abuja  Peugeot                             408  2011.0   \n",
              "\n",
              "      Colour  Amount (Million Naira)           Type  Distance    tag  \n",
              "81    Silver                    4.45   Foreign Used  895236.0  Train  \n",
              "123     Gray                   10.20   Foreign Used  700010.0  Train  \n",
              "253    Black                    3.04   Foreign Used  467397.0  Train  \n",
              "280    Black                    2.40  Nigerian Used  786123.0  Train  \n",
              "320    Black                    8.80   Foreign Used  742111.0  Train  \n",
              "...      ...                     ...            ...       ...    ...  \n",
              "8593   Black                     NaN   Foreign Used  895412.0   Test  \n",
              "8610   Brown                     NaN  Nigerian Used  440014.0   Test  \n",
              "8790    Gold                     NaN   Foreign Used  985216.0   Test  \n",
              "8831     Red                     NaN   Foreign Used  963250.0   Test  \n",
              "8893  Silver                     NaN  Nigerian Used  676265.0   Test  \n",
              "\n",
              "[93 rows x 10 columns]"
            ],
            "text/html": [
              "\n",
              "  <div id=\"df-0374ffa1-67c6-4f81-8036-ce76b9b94db8\">\n",
              "    <div class=\"colab-df-container\">\n",
              "      <div>\n",
              "<style scoped>\n",
              "    .dataframe tbody tr th:only-of-type {\n",
              "        vertical-align: middle;\n",
              "    }\n",
              "\n",
              "    .dataframe tbody tr th {\n",
              "        vertical-align: top;\n",
              "    }\n",
              "\n",
              "    .dataframe thead th {\n",
              "        text-align: right;\n",
              "    }\n",
              "</style>\n",
              "<table border=\"1\" class=\"dataframe\">\n",
              "  <thead>\n",
              "    <tr style=\"text-align: right;\">\n",
              "      <th></th>\n",
              "      <th>VehicleID</th>\n",
              "      <th>Location</th>\n",
              "      <th>Maker</th>\n",
              "      <th>Model</th>\n",
              "      <th>Year</th>\n",
              "      <th>Colour</th>\n",
              "      <th>Amount (Million Naira)</th>\n",
              "      <th>Type</th>\n",
              "      <th>Distance</th>\n",
              "      <th>tag</th>\n",
              "    </tr>\n",
              "  </thead>\n",
              "  <tbody>\n",
              "    <tr>\n",
              "      <th>81</th>\n",
              "      <td>VHL14035</td>\n",
              "      <td>Lagos</td>\n",
              "      <td>Toyota</td>\n",
              "      <td>4-Runner Limited V6</td>\n",
              "      <td>2005.0</td>\n",
              "      <td>Silver</td>\n",
              "      <td>4.45</td>\n",
              "      <td>Foreign Used</td>\n",
              "      <td>895236.0</td>\n",
              "      <td>Train</td>\n",
              "    </tr>\n",
              "    <tr>\n",
              "      <th>123</th>\n",
              "      <td>VHL13228</td>\n",
              "      <td>Lagos</td>\n",
              "      <td>Lexus</td>\n",
              "      <td>CT Base FWD</td>\n",
              "      <td>2016.0</td>\n",
              "      <td>Gray</td>\n",
              "      <td>10.20</td>\n",
              "      <td>Foreign Used</td>\n",
              "      <td>700010.0</td>\n",
              "      <td>Train</td>\n",
              "    </tr>\n",
              "    <tr>\n",
              "      <th>253</th>\n",
              "      <td>VHL14533</td>\n",
              "      <td>Lagos</td>\n",
              "      <td>Ford</td>\n",
              "      <td>Edge SE 4dr FWD (3.5L 6cyl 6A)</td>\n",
              "      <td>2007.0</td>\n",
              "      <td>Black</td>\n",
              "      <td>3.04</td>\n",
              "      <td>Foreign Used</td>\n",
              "      <td>467397.0</td>\n",
              "      <td>Train</td>\n",
              "    </tr>\n",
              "    <tr>\n",
              "      <th>280</th>\n",
              "      <td>VHL17415</td>\n",
              "      <td>Ibadan</td>\n",
              "      <td>Toyota</td>\n",
              "      <td>Camry</td>\n",
              "      <td>2008.0</td>\n",
              "      <td>Black</td>\n",
              "      <td>2.40</td>\n",
              "      <td>Nigerian Used</td>\n",
              "      <td>786123.0</td>\n",
              "      <td>Train</td>\n",
              "    </tr>\n",
              "    <tr>\n",
              "      <th>320</th>\n",
              "      <td>VHL11011</td>\n",
              "      <td>Lagos</td>\n",
              "      <td>Lexus</td>\n",
              "      <td>RX 350</td>\n",
              "      <td>2010.0</td>\n",
              "      <td>Black</td>\n",
              "      <td>8.80</td>\n",
              "      <td>Foreign Used</td>\n",
              "      <td>742111.0</td>\n",
              "      <td>Train</td>\n",
              "    </tr>\n",
              "    <tr>\n",
              "      <th>...</th>\n",
              "      <td>...</td>\n",
              "      <td>...</td>\n",
              "      <td>...</td>\n",
              "      <td>...</td>\n",
              "      <td>...</td>\n",
              "      <td>...</td>\n",
              "      <td>...</td>\n",
              "      <td>...</td>\n",
              "      <td>...</td>\n",
              "      <td>...</td>\n",
              "    </tr>\n",
              "    <tr>\n",
              "      <th>8593</th>\n",
              "      <td>VHL15801</td>\n",
              "      <td>Lagos</td>\n",
              "      <td>Acura</td>\n",
              "      <td>MDX</td>\n",
              "      <td>2008.0</td>\n",
              "      <td>Black</td>\n",
              "      <td>NaN</td>\n",
              "      <td>Foreign Used</td>\n",
              "      <td>895412.0</td>\n",
              "      <td>Test</td>\n",
              "    </tr>\n",
              "    <tr>\n",
              "      <th>8610</th>\n",
              "      <td>VHL16953</td>\n",
              "      <td>Ibadan</td>\n",
              "      <td>Toyota</td>\n",
              "      <td>Camry</td>\n",
              "      <td>2003.0</td>\n",
              "      <td>Brown</td>\n",
              "      <td>NaN</td>\n",
              "      <td>Nigerian Used</td>\n",
              "      <td>440014.0</td>\n",
              "      <td>Test</td>\n",
              "    </tr>\n",
              "    <tr>\n",
              "      <th>8790</th>\n",
              "      <td>VHL11177</td>\n",
              "      <td>Lagos</td>\n",
              "      <td>Toyota</td>\n",
              "      <td>Tacoma Double Cab V6 4WD</td>\n",
              "      <td>2004.0</td>\n",
              "      <td>Gold</td>\n",
              "      <td>NaN</td>\n",
              "      <td>Foreign Used</td>\n",
              "      <td>985216.0</td>\n",
              "      <td>Test</td>\n",
              "    </tr>\n",
              "    <tr>\n",
              "      <th>8831</th>\n",
              "      <td>VHL14676</td>\n",
              "      <td>Lagos</td>\n",
              "      <td>Toyota</td>\n",
              "      <td>Corolla</td>\n",
              "      <td>2010.0</td>\n",
              "      <td>Red</td>\n",
              "      <td>NaN</td>\n",
              "      <td>Foreign Used</td>\n",
              "      <td>963250.0</td>\n",
              "      <td>Test</td>\n",
              "    </tr>\n",
              "    <tr>\n",
              "      <th>8893</th>\n",
              "      <td>VHL16387</td>\n",
              "      <td>Abuja</td>\n",
              "      <td>Peugeot</td>\n",
              "      <td>408</td>\n",
              "      <td>2011.0</td>\n",
              "      <td>Silver</td>\n",
              "      <td>NaN</td>\n",
              "      <td>Nigerian Used</td>\n",
              "      <td>676265.0</td>\n",
              "      <td>Test</td>\n",
              "    </tr>\n",
              "  </tbody>\n",
              "</table>\n",
              "<p>93 rows × 10 columns</p>\n",
              "</div>\n",
              "      <button class=\"colab-df-convert\" onclick=\"convertToInteractive('df-0374ffa1-67c6-4f81-8036-ce76b9b94db8')\"\n",
              "              title=\"Convert this dataframe to an interactive table.\"\n",
              "              style=\"display:none;\">\n",
              "        \n",
              "  <svg xmlns=\"http://www.w3.org/2000/svg\" height=\"24px\"viewBox=\"0 0 24 24\"\n",
              "       width=\"24px\">\n",
              "    <path d=\"M0 0h24v24H0V0z\" fill=\"none\"/>\n",
              "    <path d=\"M18.56 5.44l.94 2.06.94-2.06 2.06-.94-2.06-.94-.94-2.06-.94 2.06-2.06.94zm-11 1L8.5 8.5l.94-2.06 2.06-.94-2.06-.94L8.5 2.5l-.94 2.06-2.06.94zm10 10l.94 2.06.94-2.06 2.06-.94-2.06-.94-.94-2.06-.94 2.06-2.06.94z\"/><path d=\"M17.41 7.96l-1.37-1.37c-.4-.4-.92-.59-1.43-.59-.52 0-1.04.2-1.43.59L10.3 9.45l-7.72 7.72c-.78.78-.78 2.05 0 2.83L4 21.41c.39.39.9.59 1.41.59.51 0 1.02-.2 1.41-.59l7.78-7.78 2.81-2.81c.8-.78.8-2.07 0-2.86zM5.41 20L4 18.59l7.72-7.72 1.47 1.35L5.41 20z\"/>\n",
              "  </svg>\n",
              "      </button>\n",
              "      \n",
              "  <style>\n",
              "    .colab-df-container {\n",
              "      display:flex;\n",
              "      flex-wrap:wrap;\n",
              "      gap: 12px;\n",
              "    }\n",
              "\n",
              "    .colab-df-convert {\n",
              "      background-color: #E8F0FE;\n",
              "      border: none;\n",
              "      border-radius: 50%;\n",
              "      cursor: pointer;\n",
              "      display: none;\n",
              "      fill: #1967D2;\n",
              "      height: 32px;\n",
              "      padding: 0 0 0 0;\n",
              "      width: 32px;\n",
              "    }\n",
              "\n",
              "    .colab-df-convert:hover {\n",
              "      background-color: #E2EBFA;\n",
              "      box-shadow: 0px 1px 2px rgba(60, 64, 67, 0.3), 0px 1px 3px 1px rgba(60, 64, 67, 0.15);\n",
              "      fill: #174EA6;\n",
              "    }\n",
              "\n",
              "    [theme=dark] .colab-df-convert {\n",
              "      background-color: #3B4455;\n",
              "      fill: #D2E3FC;\n",
              "    }\n",
              "\n",
              "    [theme=dark] .colab-df-convert:hover {\n",
              "      background-color: #434B5C;\n",
              "      box-shadow: 0px 1px 3px 1px rgba(0, 0, 0, 0.15);\n",
              "      filter: drop-shadow(0px 1px 2px rgba(0, 0, 0, 0.3));\n",
              "      fill: #FFFFFF;\n",
              "    }\n",
              "  </style>\n",
              "\n",
              "      <script>\n",
              "        const buttonEl =\n",
              "          document.querySelector('#df-0374ffa1-67c6-4f81-8036-ce76b9b94db8 button.colab-df-convert');\n",
              "        buttonEl.style.display =\n",
              "          google.colab.kernel.accessAllowed ? 'block' : 'none';\n",
              "\n",
              "        async function convertToInteractive(key) {\n",
              "          const element = document.querySelector('#df-0374ffa1-67c6-4f81-8036-ce76b9b94db8');\n",
              "          const dataTable =\n",
              "            await google.colab.kernel.invokeFunction('convertToInteractive',\n",
              "                                                     [key], {});\n",
              "          if (!dataTable) return;\n",
              "\n",
              "          const docLinkHtml = 'Like what you see? Visit the ' +\n",
              "            '<a target=\"_blank\" href=https://colab.research.google.com/notebooks/data_table.ipynb>data table notebook</a>'\n",
              "            + ' to learn more about interactive tables.';\n",
              "          element.innerHTML = '';\n",
              "          dataTable['output_type'] = 'display_data';\n",
              "          await google.colab.output.renderOutput(dataTable, element);\n",
              "          const docLink = document.createElement('div');\n",
              "          docLink.innerHTML = docLinkHtml;\n",
              "          element.appendChild(docLink);\n",
              "        }\n",
              "      </script>\n",
              "    </div>\n",
              "  </div>\n",
              "  "
            ]
          },
          "metadata": {},
          "execution_count": 88
        }
      ],
      "source": [
        "data[data['Distance']>436886]"
      ]
    },
    {
      "cell_type": "markdown",
      "metadata": {
        "id": "B_B8KQffWyfg"
      },
      "source": [
        "Even though there are outliers in the Distance column they represent something This is the mileage of the car. It is how much distance it covered in its previous use, i dont think it would be right to remove outliers"
      ]
    },
    {
      "cell_type": "code",
      "execution_count": null,
      "metadata": {
        "colab": {
          "base_uri": "https://localhost:8080/"
        },
        "id": "nfcsoUuZZVpT",
        "outputId": "0659c7f0-0313-4b89-8592-184f3050ea16"
      },
      "outputs": [
        {
          "output_type": "stream",
          "name": "stdout",
          "text": [
            "VehicleID 6065\n",
            "Location 3\n",
            "Maker 56\n",
            "Model 1412\n",
            "Colour 24\n",
            "Type 3\n",
            "tag 2\n"
          ]
        }
      ],
      "source": [
        "cat_cols = data.select_dtypes(include=['object']).columns\n",
        "for col in cat_cols:\n",
        "  print(col,data[col].nunique())"
      ]
    },
    {
      "cell_type": "code",
      "execution_count": null,
      "metadata": {
        "colab": {
          "base_uri": "https://localhost:8080/",
          "height": 503
        },
        "id": "gUo7-vY5ZlH7",
        "outputId": "d59d87da-c480-457a-ecaf-2c251e6a9d60"
      },
      "outputs": [
        {
          "output_type": "execute_result",
          "data": {
            "text/plain": [
              "<matplotlib.axes._subplots.AxesSubplot at 0x7f295b235e90>"
            ]
          },
          "metadata": {},
          "execution_count": 90
        },
        {
          "output_type": "display_data",
          "data": {
            "text/plain": [
              "<Figure size 2160x1080 with 1 Axes>"
            ],
            "image/png": "[encoded data removed]"
          },
          "metadata": {}
        }
      ],
      "source": [
        "fig, ax = plt.subplots(figsize=(30,15))\n",
        "sns.countplot(x=data['Colour'])"
      ]
    },
    {
      "cell_type": "code",
      "execution_count": null,
      "metadata": {
        "colab": {
          "base_uri": "https://localhost:8080/",
          "height": 503
        },
        "id": "2IvsQFRUZ_Kb",
        "outputId": "db77bf81-ca12-4ca2-cfd7-d507f03f5cd1"
      },
      "outputs": [
        {
          "output_type": "execute_result",
          "data": {
            "text/plain": [
              "<matplotlib.axes._subplots.AxesSubplot at 0x7f295af5dcd0>"
            ]
          },
          "metadata": {},
          "execution_count": 91
        },
        {
          "output_type": "display_data",
          "data": {
            "text/plain": [
              "<Figure size 2160x1080 with 1 Axes>"
            ],
            "image/png": "[encoded data removed]"
          },
          "metadata": {}
        }
      ],
      "source": [
        "fig, ax = plt.subplots(figsize=(30,15))\n",
        "sns.countplot(x=data['Maker'])"
      ]
    },
    {
      "cell_type": "markdown",
      "metadata": {
        "id": "02KlvFSJAZ_l"
      },
      "source": [
        "###Feature Engineering"
      ]
    },
    {
      "cell_type": "code",
      "execution_count": null,
      "metadata": {
        "id": "If75lJUzCMCz"
      },
      "outputs": [],
      "source": [
        "data= data.drop(['VehicleID'],axis=1)"
      ]
    },
    {
      "cell_type": "code",
      "execution_count": null,
      "metadata": {
        "id": "RLL2uZqoAxCt"
      },
      "outputs": [],
      "source": [
        "cat_cols = data.select_dtypes(include=['object']).columns"
      ]
    },
    {
      "cell_type": "code",
      "execution_count": null,
      "metadata": {
        "colab": {
          "base_uri": "https://localhost:8080/"
        },
        "id": "c4aMNOdTAdlt",
        "outputId": "f46d535a-9da0-4473-be8c-4ce751b6a6b0"
      },
      "outputs": [
        {
          "output_type": "stream",
          "name": "stdout",
          "text": [
            "Location\n",
            "==============================\n",
            "Lagos     4240\n",
            "Abuja     4225\n",
            "Ibadan     801\n",
            "Name: Location, dtype: int64\n",
            "==============================\n",
            "Maker\n",
            "==============================\n",
            "Toyota           3558\n",
            "Lexus            2036\n",
            "Mercedes-Benz    1536\n",
            "Honda             474\n",
            "Hyundai           207\n",
            "Acura             191\n",
            "Land Rover        163\n",
            "Ford              152\n",
            "BMW               152\n",
            "Nissan            125\n",
            "Peugeot            95\n",
            "Kia                79\n",
            "Volkswagen         76\n",
            "Mazda              44\n",
            "Pontiac            42\n",
            "Audi               33\n",
            "Dodge              30\n",
            "Mitsubishi         29\n",
            "Chevrolet          28\n",
            "Infiniti           23\n",
            "Jeep               19\n",
            "Jaguar             16\n",
            "Mini               12\n",
            "Lincoln            11\n",
            "Rolls-Royce        11\n",
            "GMC                 9\n",
            "Scion               9\n",
            "Volvo               9\n",
            "Suzuki              8\n",
            "Cadillac            8\n",
            "Porsche             8\n",
            "Maserati            7\n",
            "Opel                7\n",
            "Bentley             6\n",
            "Chrysler            6\n",
            "Buick               6\n",
            "Lamborghini         5\n",
            "Renault             4\n",
            "Fiat                4\n",
            "GAC                 3\n",
            "Subaru              3\n",
            "Rover               3\n",
            "Citroen             2\n",
            "Brabus              2\n",
            "Saturn              2\n",
            "JAC                 2\n",
            "Hummer              2\n",
            "Ferrari             1\n",
            "Saab                1\n",
            "IVM                 1\n",
            "Skoda               1\n",
            "MG                  1\n",
            "Tata                1\n",
            "BAW                 1\n",
            "King                1\n",
            "Seat                1\n",
            "Name: Maker, dtype: int64\n",
            "==============================\n",
            "Model\n",
            "==============================\n",
            "Camry                    834\n",
            "ES 350                   391\n",
            "Corolla                  356\n",
            "C300                     254\n",
            "RX                       205\n",
            "                        ... \n",
            "JAC S2                     1\n",
            "C-Max                      1\n",
            "Accord CrossTour EX-L      1\n",
            "C70 Automatic              1\n",
            "Highlander Sport 4x4       1\n",
            "Name: Model, Length: 1412, dtype: int64\n",
            "==============================\n",
            "Colour\n",
            "==============================\n",
            "Black       2738\n",
            "Gray        1475\n",
            "Silver      1440\n",
            "White       1305\n",
            "Blue         729\n",
            "Red          619\n",
            "Gold         465\n",
            "Green        228\n",
            "Brown        147\n",
            "Burgandy      31\n",
            "Beige         27\n",
            "Purple        20\n",
            "Orange        11\n",
            "Pink           9\n",
            "Yellow         9\n",
            "Ivory          3\n",
            "Teal           2\n",
            "Auto           2\n",
            "Violet         1\n",
            "G              1\n",
            "Mica           1\n",
            "Pearl          1\n",
            "Cream          1\n",
            "V              1\n",
            "Name: Colour, dtype: int64\n",
            "==============================\n",
            "Type\n",
            "==============================\n",
            "Foreign Used     6537\n",
            "Nigerian Used    2442\n",
            "Brand New         287\n",
            "Name: Type, dtype: int64\n",
            "==============================\n",
            "tag\n",
            "==============================\n",
            "Train    7205\n",
            "Test     2061\n",
            "Name: tag, dtype: int64\n",
            "==============================\n"
          ]
        }
      ],
      "source": [
        "for col in cat_cols:\n",
        "  print(col)\n",
        "  print('='*30)\n",
        "  print(data[col].value_counts())\n",
        "  print('='*30)"
      ]
    },
    {
      "cell_type": "code",
      "execution_count": null,
      "metadata": {
        "colab": {
          "base_uri": "https://localhost:8080/"
        },
        "id": "RxnxXY7WAeyZ",
        "outputId": "714e7a70-fc64-4522-b98f-4284008fd8cb"
      },
      "outputs": [
        {
          "output_type": "stream",
          "name": "stdout",
          "text": [
            "<class 'pandas.core.frame.DataFrame'>\n",
            "RangeIndex: 9266 entries, 0 to 9265\n",
            "Data columns (total 9 columns):\n",
            " #   Column                  Non-Null Count  Dtype  \n",
            "---  ------                  --------------  -----  \n",
            " 0   Location                9266 non-null   object \n",
            " 1   Maker                   9266 non-null   object \n",
            " 2   Model                   9266 non-null   object \n",
            " 3   Year                    9266 non-null   float64\n",
            " 4   Colour                  9266 non-null   object \n",
            " 5   Amount (Million Naira)  7205 non-null   float64\n",
            " 6   Type                    9266 non-null   object \n",
            " 7   Distance                9266 non-null   float64\n",
            " 8   tag                     9266 non-null   object \n",
            "dtypes: float64(3), object(6)\n",
            "memory usage: 651.6+ KB\n"
          ]
        }
      ],
      "source": [
        "data.info()"
      ]
    },
    {
      "cell_type": "code",
      "execution_count": null,
      "metadata": {
        "id": "JSoOaEU2AfHb"
      },
      "outputs": [],
      "source": [
        "data['Model_Year'] = data[['Year','Model']].apply(lambda x:x.Model+'_'+str(x.Year),axis=1)"
      ]
    },
    {
      "cell_type": "code",
      "execution_count": null,
      "metadata": {
        "colab": {
          "base_uri": "https://localhost:8080/"
        },
        "id": "XX9sLsAsifhC",
        "outputId": "4b00970a-300d-49f0-c019-c5b68409121f"
      },
      "outputs": [
        {
          "output_type": "execute_result",
          "data": {
            "text/plain": [
              "Index(['Toyota', 'Lexus', 'Mercedes-Benz', 'Honda', 'Hyundai', 'Acura',\n",
              "       'Land Rover', 'Ford', 'BMW', 'Nissan', 'Peugeot', 'Kia', 'Volkswagen',\n",
              "       'Mazda', 'Pontiac', 'Audi', 'Dodge', 'Mitsubishi', 'Chevrolet',\n",
              "       'Infiniti', 'Jeep', 'Jaguar', 'Mini', 'Lincoln', 'Rolls-Royce', 'GMC',\n",
              "       'Scion', 'Volvo', 'Suzuki', 'Cadillac', 'Porsche', 'Maserati', 'Opel',\n",
              "       'Bentley', 'Chrysler', 'Buick', 'Lamborghini', 'Renault', 'Fiat', 'GAC',\n",
              "       'Subaru', 'Rover', 'Citroen', 'Brabus', 'Saturn', 'JAC', 'Hummer',\n",
              "       'Ferrari', 'Saab', 'IVM', 'Skoda', 'MG', 'Tata', 'BAW', 'King', 'Seat'],\n",
              "      dtype='object')"
            ]
          },
          "metadata": {},
          "execution_count": 97
        }
      ],
      "source": [
        "data['Maker'].value_counts().index"
      ]
    },
    {
      "cell_type": "code",
      "execution_count": null,
      "metadata": {
        "id": "bbK-OCMWtQAV"
      },
      "outputs": [],
      "source": [
        "cols = ['Toyota', 'Lexus', 'Mercedes-Benz', 'Honda', 'Hyundai', 'Acura','Land Rover', 'Ford', 'BMW', 'Nissan', 'Peugeot']"
      ]
    },
    {
      "cell_type": "code",
      "execution_count": null,
      "metadata": {
        "id": "QLfSwBhW3Jwj"
      },
      "outputs": [],
      "source": [
        "data['Ohe_Maker'] = np.where(data['Maker'].isin(cols), data['Maker'],'others')"
      ]
    },
    {
      "cell_type": "code",
      "execution_count": null,
      "metadata": {
        "id": "W0JT7W8uuNXN"
      },
      "outputs": [],
      "source": [
        "data['Distance_bin'] = pd.cut(data['Distance'],bins=10,labels=False)"
      ]
    },
    {
      "cell_type": "code",
      "source": [
        "fig, ax = plt.subplots(figsize=(20,10))\n",
        "sns.countplot(y='Ohe_Maker',data=data)"
      ],
      "metadata": {
        "colab": {
          "base_uri": "https://localhost:8080/",
          "height": 486
        },
        "id": "WL4nvItFqbo8",
        "outputId": "7ccb15d7-dafd-4575-b30f-a71e11ee6537"
      },
      "execution_count": null,
      "outputs": [
        {
          "output_type": "execute_result",
          "data": {
            "text/plain": [
              "<matplotlib.axes._subplots.AxesSubplot at 0x7f295aca2d90>"
            ]
          },
          "metadata": {},
          "execution_count": 101
        },
        {
          "output_type": "display_data",
          "data": {
            "text/plain": [
              "<Figure size 1440x720 with 1 Axes>"
            ],
            "image/png": "[encoded data removed]"
          },
          "metadata": {}
        }
      ]
    },
    {
      "cell_type": "code",
      "source": [
        "sns.relplot(x='Maker',y='Amount (Million Naira)',data=data,height=10,aspect=10,kind='scatter')"
      ],
      "metadata": {
        "colab": {
          "base_uri": "https://localhost:8080/",
          "height": 127
        },
        "id": "2QXelnulqb6X",
        "outputId": "33dc9e45-dfab-42db-bbce-f49d5c7bbfe7"
      },
      "execution_count": null,
      "outputs": [
        {
          "output_type": "execute_result",
          "data": {
            "text/plain": [
              "<seaborn.axisgrid.FacetGrid at 0x7f295ad69410>"
            ]
          },
          "metadata": {},
          "execution_count": 102
        },
        {
          "output_type": "display_data",
          "data": {
            "text/plain": [
              "<Figure size 7200x720 with 1 Axes>"
            ],
            "image/png": "[encoded data removed]"
          },
          "metadata": {}
        }
      ]
    },
    {
      "cell_type": "markdown",
      "source": [
        "How is it that Mercedes-Benz and Others are more expensive than others?"
      ],
      "metadata": {
        "id": "7uPCEb0ev6Xx"
      }
    },
    {
      "cell_type": "code",
      "source": [
        "data['Maker'].unique()"
      ],
      "metadata": {
        "id": "jSO8Hc7yx7iG",
        "colab": {
          "base_uri": "https://localhost:8080/"
        },
        "outputId": "9f7ecdc3-887d-4bf3-db9c-1f323c1d238e"
      },
      "execution_count": null,
      "outputs": [
        {
          "output_type": "execute_result",
          "data": {
            "text/plain": [
              "array(['Honda', 'Hyundai', 'Lexus', 'Mercedes-Benz', 'Toyota', 'Acura',\n",
              "       'Dodge', 'Nissan', 'Kia', 'BMW', 'Volvo', 'Ford', 'Land Rover',\n",
              "       'Lincoln', 'Peugeot', 'Chevrolet', 'Audi', 'Jaguar', 'Infiniti',\n",
              "       'Porsche', 'Fiat', 'Maserati', 'Volkswagen', 'Suzuki', 'Bentley',\n",
              "       'GAC', 'Mazda', 'Scion', 'Renault', 'Mitsubishi', 'Mini',\n",
              "       'Pontiac', 'Cadillac', 'Ferrari', 'Jeep', 'Buick', 'Rolls-Royce',\n",
              "       'GMC', 'Chrysler', 'Lamborghini', 'Citroen', 'King', 'BAW',\n",
              "       'Saturn', 'Tata', 'Opel', 'JAC', 'MG', 'Hummer', 'Subaru', 'Rover',\n",
              "       'Saab', 'Skoda', 'IVM', 'Brabus', 'Seat'], dtype=object)"
            ]
          },
          "metadata": {},
          "execution_count": 103
        }
      ]
    },
    {
      "cell_type": "code",
      "source": [
        "#costly_cars = ['Lexus','Mercedes-Benz','Toyota','Rolls-Royce','Lamborghini']\n",
        "#cheap_cars = list(set(list(data['Maker'].unique())) - set(costly_cars))\n",
        "# data['costly_cars'] = np.where(data['Maker'].isin(costly_cars), 1, 0)\n",
        "# data['cheap_cars'] = np.where(data['Maker'].isin(cheap_cars),1,0)"
      ],
      "metadata": {
        "id": "1x13XqJBsOEg"
      },
      "execution_count": null,
      "outputs": []
    },
    {
      "cell_type": "code",
      "source": [
        "data['Model'].value_counts().index"
      ],
      "metadata": {
        "id": "0ebzClLFsOZp",
        "colab": {
          "base_uri": "https://localhost:8080/"
        },
        "outputId": "9d9948de-721d-4305-8af0-33750b088b31"
      },
      "execution_count": null,
      "outputs": [
        {
          "output_type": "execute_result",
          "data": {
            "text/plain": [
              "Index(['Camry', 'ES 350', 'Corolla', 'C300', 'RX', 'Accord', 'RX 350',\n",
              "       'Highlander', 'M Class ML 350 4Matic', 'RX 350 AWD',\n",
              "       ...\n",
              "       'Corolla XLE', 'Land Cruiser Prado 2.7 i', 'GLS-Class GLS550 4MATIC',\n",
              "       'Accord Touring 2.0T', 'Infiniti QX', 'JAC S2', 'C-Max',\n",
              "       'Accord CrossTour EX-L', 'C70 Automatic', 'Highlander Sport 4x4'],\n",
              "      dtype='object', length=1412)"
            ]
          },
          "metadata": {},
          "execution_count": 105
        }
      ]
    },
    {
      "cell_type": "code",
      "source": [
        "# col_cols = ['Black', 'Gray', 'White', 'Blue', 'Red', 'Green','others']\n",
        "# data['Ohe_Colour'] = np.where(data['Colour'].isin(col_cols), data['Colour'],'others')"
      ],
      "metadata": {
        "id": "5DosBAweoYdq"
      },
      "execution_count": null,
      "outputs": []
    },
    {
      "cell_type": "code",
      "source": [
        "# fig, ax = plt.subplots(figsize=(20,10))\n",
        "# sns.countplot(y='Ohe_Colour',hue='Type',data=data)"
      ],
      "metadata": {
        "id": "8K2y-CaYqoOV"
      },
      "execution_count": null,
      "outputs": []
    },
    {
      "cell_type": "code",
      "source": [
        "# sns.relplot(x='Ohe_Colour',y='Amount (Million Naira)',hue='Type',data=data,height=10,aspect=10,kind='scatter')"
      ],
      "metadata": {
        "id": "8y7sxFHDreHZ"
      },
      "execution_count": null,
      "outputs": []
    },
    {
      "cell_type": "code",
      "source": [
        "# mod_cols = ['Camry', 'ES 350', 'Corolla', 'C300', 'RX']"
      ],
      "metadata": {
        "id": "dJTwylUVqcaP"
      },
      "execution_count": null,
      "outputs": []
    },
    {
      "cell_type": "code",
      "source": [
        "# data['Ohe_Model'] = np.where(data['Model'].isin(mod_cols), data['Model'],'others')"
      ],
      "metadata": {
        "id": "dVBYxiGwTOxE"
      },
      "execution_count": null,
      "outputs": []
    },
    {
      "cell_type": "code",
      "source": [
        "# fig, ax = plt.subplots(figsize=(20,10))\n",
        "# sns.countplot(y='Ohe_Model',hue='Location',data=data)"
      ],
      "metadata": {
        "id": "c_VsbKu3TO_0"
      },
      "execution_count": null,
      "outputs": []
    },
    {
      "cell_type": "code",
      "source": [
        "# sns.relplot(x='Ohe_Maker',y='Amount (Million Naira)',hue='Ohe_Colour',data=data,height=8,aspect=2,kind='scatter')"
      ],
      "metadata": {
        "id": "-JmrbnIHkL4J"
      },
      "execution_count": null,
      "outputs": []
    },
    {
      "cell_type": "code",
      "source": [
        "data.info()"
      ],
      "metadata": {
        "colab": {
          "base_uri": "https://localhost:8080/"
        },
        "id": "JRn9SHyLkL_c",
        "outputId": "2f47484c-eab8-4f5b-a4e9-1e1c610af0ef"
      },
      "execution_count": null,
      "outputs": [
        {
          "output_type": "stream",
          "name": "stdout",
          "text": [
            "<class 'pandas.core.frame.DataFrame'>\n",
            "RangeIndex: 9266 entries, 0 to 9265\n",
            "Data columns (total 12 columns):\n",
            " #   Column                  Non-Null Count  Dtype  \n",
            "---  ------                  --------------  -----  \n",
            " 0   Location                9266 non-null   object \n",
            " 1   Maker                   9266 non-null   object \n",
            " 2   Model                   9266 non-null   object \n",
            " 3   Year                    9266 non-null   float64\n",
            " 4   Colour                  9266 non-null   object \n",
            " 5   Amount (Million Naira)  7205 non-null   float64\n",
            " 6   Type                    9266 non-null   object \n",
            " 7   Distance                9266 non-null   float64\n",
            " 8   tag                     9266 non-null   object \n",
            " 9   Model_Year              9266 non-null   object \n",
            " 10  Ohe_Maker               9266 non-null   object \n",
            " 11  Distance_bin            9266 non-null   int64  \n",
            "dtypes: float64(3), int64(1), object(8)\n",
            "memory usage: 868.8+ KB\n"
          ]
        }
      ]
    },
    {
      "cell_type": "code",
      "source": [
        ""
      ],
      "metadata": {
        "id": "cGjBg4mYkMGD"
      },
      "execution_count": null,
      "outputs": []
    },
    {
      "cell_type": "code",
      "source": [
        ""
      ],
      "metadata": {
        "id": "InfOiAXjkMMg"
      },
      "execution_count": null,
      "outputs": []
    },
    {
      "cell_type": "code",
      "source": [
        ""
      ],
      "metadata": {
        "id": "G5A8WnZbxgDc"
      },
      "execution_count": null,
      "outputs": []
    },
    {
      "cell_type": "code",
      "execution_count": null,
      "metadata": {
        "id": "liLfjYVSyDXF"
      },
      "outputs": [],
      "source": [
        "new_data = data.copy()"
      ]
    },
    {
      "cell_type": "code",
      "execution_count": null,
      "metadata": {
        "id": "Ed5001rzb8BL"
      },
      "outputs": [],
      "source": [
        "from sklearn.preprocessing import LabelEncoder\n",
        "from sklearn.preprocessing import OneHotEncoder\n",
        "ohe = OneHotEncoder(sparse=False)\n",
        "le = LabelEncoder()\n",
        "x = ohe.fit_transform(new_data[['Type']])\n",
        "new_data[['Type_1','Type_2','Type_3']] = x"
      ]
    },
    {
      "cell_type": "code",
      "execution_count": null,
      "metadata": {
        "id": "Myu6mczMcUYz"
      },
      "outputs": [],
      "source": [
        "x = ohe.fit_transform(new_data[['Location']])\n",
        "new_data[['loc_1','loc_2','loc_3']] = x"
      ]
    },
    {
      "cell_type": "code",
      "execution_count": null,
      "metadata": {
        "id": "1vPvySbxe15x"
      },
      "outputs": [],
      "source": [
        "x = ohe.fit_transform(new_data[['Ohe_Maker']])\n",
        "new_data[['Toyota', 'Lexus', 'Mercedes-Benz', 'Honda', 'Hyundai', 'Acura','Land Rover', 'Ford', 'BMW', 'Nissan', 'Peugeot','others']] = x"
      ]
    },
    {
      "cell_type": "code",
      "source": [
        "# x = ohe.fit_transform(new_data[['Ohe_Model']])\n",
        "# new_data[['Camry', 'ES 350', 'Corolla', 'C300', 'RX','others']] = x"
      ],
      "metadata": {
        "id": "85ixILnOhH99"
      },
      "execution_count": null,
      "outputs": []
    },
    {
      "cell_type": "code",
      "execution_count": null,
      "metadata": {
        "id": "iQrjep6Q5icL"
      },
      "outputs": [],
      "source": [
        "#x=ohe.fit_transform(new_data[['Ohe_colour']])\n",
        "#new_data[['Black', 'Gray', 'White', 'Blue', 'Red', 'Green','others']] = x"
      ]
    },
    {
      "cell_type": "code",
      "execution_count": null,
      "metadata": {
        "id": "f4LPNNTmeLXv"
      },
      "outputs": [],
      "source": [
        "cols=['Maker','Model','Colour','Model_Year']\n",
        "for col in cols:\n",
        "  new_data[col] = le.fit_transform(new_data[col])"
      ]
    },
    {
      "cell_type": "code",
      "execution_count": null,
      "metadata": {
        "id": "WWIGKWz4XgGY"
      },
      "outputs": [],
      "source": [
        "Train = new_data.loc[new_data['tag'] == 'Train'].reset_index(drop = True)\n",
        "Test = new_data.loc[new_data['tag'] == 'Test'].reset_index(drop = True)\n",
        "\n",
        "Train.drop(['tag'],axis=1,inplace=True)\n",
        "Test.drop(['tag'],axis=1,inplace=True)\n",
        "\n",
        "new_train = Train.drop(['Location','Type','Ohe_Maker','Distance'],axis=1)\n",
        "new_test = Test.drop(['Location','Type','Amount (Million Naira)','Ohe_Maker','Distance'],axis=1)"
      ]
    },
    {
      "cell_type": "code",
      "execution_count": null,
      "metadata": {
        "id": "r6wWVY36kOhG",
        "colab": {
          "base_uri": "https://localhost:8080/"
        },
        "outputId": "9bb8ad44-2ce2-49ac-cf2e-32e5b126d386"
      },
      "outputs": [
        {
          "output_type": "stream",
          "name": "stdout",
          "text": [
            "Looking in indexes: https://pypi.org/simple, https://us-python.pkg.dev/colab-wheels/public/simple/\n",
            "Requirement already satisfied: catboost in /usr/local/lib/python3.7/dist-packages (1.0.6)\n",
            "Requirement already satisfied: numpy>=1.16.0 in /usr/local/lib/python3.7/dist-packages (from catboost) (1.21.6)\n",
            "Requirement already satisfied: pandas>=0.24.0 in /usr/local/lib/python3.7/dist-packages (from catboost) (1.3.5)\n",
            "Requirement already satisfied: six in /usr/local/lib/python3.7/dist-packages (from catboost) (1.15.0)\n",
            "Requirement already satisfied: plotly in /usr/local/lib/python3.7/dist-packages (from catboost) (5.5.0)\n",
            "Requirement already satisfied: matplotlib in /usr/local/lib/python3.7/dist-packages (from catboost) (3.2.2)\n",
            "Requirement already satisfied: scipy in /usr/local/lib/python3.7/dist-packages (from catboost) (1.4.1)\n",
            "Requirement already satisfied: graphviz in /usr/local/lib/python3.7/dist-packages (from catboost) (0.10.1)\n",
            "Requirement already satisfied: pytz>=2017.3 in /usr/local/lib/python3.7/dist-packages (from pandas>=0.24.0->catboost) (2022.1)\n",
            "Requirement already satisfied: python-dateutil>=2.7.3 in /usr/local/lib/python3.7/dist-packages (from pandas>=0.24.0->catboost) (2.8.2)\n",
            "Requirement already satisfied: pyparsing!=2.0.4,!=2.1.2,!=2.1.6,>=2.0.1 in /usr/local/lib/python3.7/dist-packages (from matplotlib->catboost) (3.0.9)\n",
            "Requirement already satisfied: cycler>=0.10 in /usr/local/lib/python3.7/dist-packages (from matplotlib->catboost) (0.11.0)\n",
            "Requirement already satisfied: kiwisolver>=1.0.1 in /usr/local/lib/python3.7/dist-packages (from matplotlib->catboost) (1.4.2)\n",
            "Requirement already satisfied: typing-extensions in /usr/local/lib/python3.7/dist-packages (from kiwisolver>=1.0.1->matplotlib->catboost) (4.2.0)\n",
            "Requirement already satisfied: tenacity>=6.2.0 in /usr/local/lib/python3.7/dist-packages (from plotly->catboost) (8.0.1)\n"
          ]
        }
      ],
      "source": [
        "!pip install catboost\n",
        "from catboost import CatBoostRegressor"
      ]
    },
    {
      "cell_type": "markdown",
      "metadata": {
        "id": "8EllyiwbDcaP"
      },
      "source": [
        "###Modelling"
      ]
    },
    {
      "cell_type": "code",
      "execution_count": null,
      "metadata": {
        "colab": {
          "base_uri": "https://localhost:8080/"
        },
        "id": "_IpYN-pwf7rQ",
        "outputId": "3867049f-e819-42ce-aecb-425f8cd07d12"
      },
      "outputs": [
        {
          "output_type": "stream",
          "name": "stdout",
          "text": [
            "err:  13.119307415382556\n",
            "err:  8.824765379056634\n",
            "err:  10.037123856350744\n",
            "err:  13.059849841223567\n",
            "err:  11.575735070476854\n",
            "11.32335631249807\n"
          ]
        }
      ],
      "source": [
        "fold = KFold(n_splits=5,shuffle=True)\n",
        "X = new_train.drop(['Amount (Million Naira)'],axis=1)\n",
        "y = new_train['Amount (Million Naira)']\n",
        "oof_f1=[]\n",
        "feature_importances_cbc = np.zeros(X.shape[1])\n",
        "cat_pred = []\n",
        "\n",
        "for train_index, test_index in fold.split(X,y):\n",
        "  X_train, X_test = X.iloc[train_index],X.iloc[test_index]\n",
        "  y_train, y_test = y.iloc[train_index],y.iloc[test_index]\n",
        "\n",
        "  model = CatBoostRegressor()\n",
        "  model.fit(X_train,y_train,eval_set=[(X_train,y_train),(X_test, y_test)], early_stopping_rounds=500, verbose = False)#erly100\n",
        "  preds=model.predict(X_test)\n",
        "  print(\"err: \",sqrt(mean_squared_error(y_test,preds)))\n",
        "  oof_f1.append(sqrt(mean_squared_error(y_test,preds)))\n",
        "  cat_pred.append(model.predict(new_test))\n",
        "  feature_importances_cbc += model.feature_importances_\n",
        "print(np.mean(oof_f1))\n",
        "\n"
      ]
    },
    {
      "cell_type": "code",
      "execution_count": null,
      "metadata": {
        "id": "Qz_-q5OcD82f"
      },
      "outputs": [],
      "source": [
        "feature_importances_cbc = feature_importances_cbc / 5\n",
        "feature_importances_cbc = pd.DataFrame({'feature': list(X.columns), 'importance': feature_importances_cbc}).sort_values('importance', ascending = False)"
      ]
    },
    {
      "cell_type": "code",
      "execution_count": null,
      "metadata": {
        "colab": {
          "base_uri": "https://localhost:8080/",
          "height": 882
        },
        "id": "ylTJUJpTEKiF",
        "outputId": "5b5710d5-7890-4ce3-ba72-9ab523bbfbe4"
      },
      "outputs": [
        {
          "output_type": "stream",
          "name": "stdout",
          "text": [
            "There are 0 features with 0.0 importance\n"
          ]
        },
        {
          "output_type": "execute_result",
          "data": {
            "text/plain": [
              "          feature  importance\n",
              "2            Year   28.111081\n",
              "25         others   16.183591\n",
              "1           Model   10.590736\n",
              "8          Type_1   10.308853\n",
              "4      Model_Year    8.006630\n",
              "0           Maker    6.465052\n",
              "7      cheap_cars    5.682721\n",
              "21           Ford    4.866590\n",
              "6     costly_cars    3.679599\n",
              "3          Colour    2.162446\n",
              "24        Peugeot    1.222918\n",
              "9          Type_2    0.994503\n",
              "19          Acura    0.543589\n",
              "11          loc_1    0.313777\n",
              "10         Type_3    0.301487\n",
              "20     Land Rover    0.178343\n",
              "13          loc_3    0.174597\n",
              "15          Lexus    0.085772\n",
              "18        Hyundai    0.066098\n",
              "22            BMW    0.021640\n",
              "17          Honda    0.013908\n",
              "23         Nissan    0.009742\n",
              "5    Distance_bin    0.007986\n",
              "12          loc_2    0.005318\n",
              "16  Mercedes-Benz    0.002383\n",
              "14         Toyota    0.000639"
            ],
            "text/html": [
              "\n",
              "  <div id=\"df-1d847afa-0018-4da2-b23d-b62c252feb15\">\n",
              "    <div class=\"colab-df-container\">\n",
              "      <div>\n",
              "<style scoped>\n",
              "    .dataframe tbody tr th:only-of-type {\n",
              "        vertical-align: middle;\n",
              "    }\n",
              "\n",
              "    .dataframe tbody tr th {\n",
              "        vertical-align: top;\n",
              "    }\n",
              "\n",
              "    .dataframe thead th {\n",
              "        text-align: right;\n",
              "    }\n",
              "</style>\n",
              "<table border=\"1\" class=\"dataframe\">\n",
              "  <thead>\n",
              "    <tr style=\"text-align: right;\">\n",
              "      <th></th>\n",
              "      <th>feature</th>\n",
              "      <th>importance</th>\n",
              "    </tr>\n",
              "  </thead>\n",
              "  <tbody>\n",
              "    <tr>\n",
              "      <th>2</th>\n",
              "      <td>Year</td>\n",
              "      <td>28.111081</td>\n",
              "    </tr>\n",
              "    <tr>\n",
              "      <th>25</th>\n",
              "      <td>others</td>\n",
              "      <td>16.183591</td>\n",
              "    </tr>\n",
              "    <tr>\n",
              "      <th>1</th>\n",
              "      <td>Model</td>\n",
              "      <td>10.590736</td>\n",
              "    </tr>\n",
              "    <tr>\n",
              "      <th>8</th>\n",
              "      <td>Type_1</td>\n",
              "      <td>10.308853</td>\n",
              "    </tr>\n",
              "    <tr>\n",
              "      <th>4</th>\n",
              "      <td>Model_Year</td>\n",
              "      <td>8.006630</td>\n",
              "    </tr>\n",
              "    <tr>\n",
              "      <th>0</th>\n",
              "      <td>Maker</td>\n",
              "      <td>6.465052</td>\n",
              "    </tr>\n",
              "    <tr>\n",
              "      <th>7</th>\n",
              "      <td>cheap_cars</td>\n",
              "      <td>5.682721</td>\n",
              "    </tr>\n",
              "    <tr>\n",
              "      <th>21</th>\n",
              "      <td>Ford</td>\n",
              "      <td>4.866590</td>\n",
              "    </tr>\n",
              "    <tr>\n",
              "      <th>6</th>\n",
              "      <td>costly_cars</td>\n",
              "      <td>3.679599</td>\n",
              "    </tr>\n",
              "    <tr>\n",
              "      <th>3</th>\n",
              "      <td>Colour</td>\n",
              "      <td>2.162446</td>\n",
              "    </tr>\n",
              "    <tr>\n",
              "      <th>24</th>\n",
              "      <td>Peugeot</td>\n",
              "      <td>1.222918</td>\n",
              "    </tr>\n",
              "    <tr>\n",
              "      <th>9</th>\n",
              "      <td>Type_2</td>\n",
              "      <td>0.994503</td>\n",
              "    </tr>\n",
              "    <tr>\n",
              "      <th>19</th>\n",
              "      <td>Acura</td>\n",
              "      <td>0.543589</td>\n",
              "    </tr>\n",
              "    <tr>\n",
              "      <th>11</th>\n",
              "      <td>loc_1</td>\n",
              "      <td>0.313777</td>\n",
              "    </tr>\n",
              "    <tr>\n",
              "      <th>10</th>\n",
              "      <td>Type_3</td>\n",
              "      <td>0.301487</td>\n",
              "    </tr>\n",
              "    <tr>\n",
              "      <th>20</th>\n",
              "      <td>Land Rover</td>\n",
              "      <td>0.178343</td>\n",
              "    </tr>\n",
              "    <tr>\n",
              "      <th>13</th>\n",
              "      <td>loc_3</td>\n",
              "      <td>0.174597</td>\n",
              "    </tr>\n",
              "    <tr>\n",
              "      <th>15</th>\n",
              "      <td>Lexus</td>\n",
              "      <td>0.085772</td>\n",
              "    </tr>\n",
              "    <tr>\n",
              "      <th>18</th>\n",
              "      <td>Hyundai</td>\n",
              "      <td>0.066098</td>\n",
              "    </tr>\n",
              "    <tr>\n",
              "      <th>22</th>\n",
              "      <td>BMW</td>\n",
              "      <td>0.021640</td>\n",
              "    </tr>\n",
              "    <tr>\n",
              "      <th>17</th>\n",
              "      <td>Honda</td>\n",
              "      <td>0.013908</td>\n",
              "    </tr>\n",
              "    <tr>\n",
              "      <th>23</th>\n",
              "      <td>Nissan</td>\n",
              "      <td>0.009742</td>\n",
              "    </tr>\n",
              "    <tr>\n",
              "      <th>5</th>\n",
              "      <td>Distance_bin</td>\n",
              "      <td>0.007986</td>\n",
              "    </tr>\n",
              "    <tr>\n",
              "      <th>12</th>\n",
              "      <td>loc_2</td>\n",
              "      <td>0.005318</td>\n",
              "    </tr>\n",
              "    <tr>\n",
              "      <th>16</th>\n",
              "      <td>Mercedes-Benz</td>\n",
              "      <td>0.002383</td>\n",
              "    </tr>\n",
              "    <tr>\n",
              "      <th>14</th>\n",
              "      <td>Toyota</td>\n",
              "      <td>0.000639</td>\n",
              "    </tr>\n",
              "  </tbody>\n",
              "</table>\n",
              "</div>\n",
              "      <button class=\"colab-df-convert\" onclick=\"convertToInteractive('df-1d847afa-0018-4da2-b23d-b62c252feb15')\"\n",
              "              title=\"Convert this dataframe to an interactive table.\"\n",
              "              style=\"display:none;\">\n",
              "        \n",
              "  <svg xmlns=\"http://www.w3.org/2000/svg\" height=\"24px\"viewBox=\"0 0 24 24\"\n",
              "       width=\"24px\">\n",
              "    <path d=\"M0 0h24v24H0V0z\" fill=\"none\"/>\n",
              "    <path d=\"M18.56 5.44l.94 2.06.94-2.06 2.06-.94-2.06-.94-.94-2.06-.94 2.06-2.06.94zm-11 1L8.5 8.5l.94-2.06 2.06-.94-2.06-.94L8.5 2.5l-.94 2.06-2.06.94zm10 10l.94 2.06.94-2.06 2.06-.94-2.06-.94-.94-2.06-.94 2.06-2.06.94z\"/><path d=\"M17.41 7.96l-1.37-1.37c-.4-.4-.92-.59-1.43-.59-.52 0-1.04.2-1.43.59L10.3 9.45l-7.72 7.72c-.78.78-.78 2.05 0 2.83L4 21.41c.39.39.9.59 1.41.59.51 0 1.02-.2 1.41-.59l7.78-7.78 2.81-2.81c.8-.78.8-2.07 0-2.86zM5.41 20L4 18.59l7.72-7.72 1.47 1.35L5.41 20z\"/>\n",
              "  </svg>\n",
              "      </button>\n",
              "      \n",
              "  <style>\n",
              "    .colab-df-container {\n",
              "      display:flex;\n",
              "      flex-wrap:wrap;\n",
              "      gap: 12px;\n",
              "    }\n",
              "\n",
              "    .colab-df-convert {\n",
              "      background-color: #E8F0FE;\n",
              "      border: none;\n",
              "      border-radius: 50%;\n",
              "      cursor: pointer;\n",
              "      display: none;\n",
              "      fill: #1967D2;\n",
              "      height: 32px;\n",
              "      padding: 0 0 0 0;\n",
              "      width: 32px;\n",
              "    }\n",
              "\n",
              "    .colab-df-convert:hover {\n",
              "      background-color: #E2EBFA;\n",
              "      box-shadow: 0px 1px 2px rgba(60, 64, 67, 0.3), 0px 1px 3px 1px rgba(60, 64, 67, 0.15);\n",
              "      fill: #174EA6;\n",
              "    }\n",
              "\n",
              "    [theme=dark] .colab-df-convert {\n",
              "      background-color: #3B4455;\n",
              "      fill: #D2E3FC;\n",
              "    }\n",
              "\n",
              "    [theme=dark] .colab-df-convert:hover {\n",
              "      background-color: #434B5C;\n",
              "      box-shadow: 0px 1px 3px 1px rgba(0, 0, 0, 0.15);\n",
              "      filter: drop-shadow(0px 1px 2px rgba(0, 0, 0, 0.3));\n",
              "      fill: #FFFFFF;\n",
              "    }\n",
              "  </style>\n",
              "\n",
              "      <script>\n",
              "        const buttonEl =\n",
              "          document.querySelector('#df-1d847afa-0018-4da2-b23d-b62c252feb15 button.colab-df-convert');\n",
              "        buttonEl.style.display =\n",
              "          google.colab.kernel.accessAllowed ? 'block' : 'none';\n",
              "\n",
              "        async function convertToInteractive(key) {\n",
              "          const element = document.querySelector('#df-1d847afa-0018-4da2-b23d-b62c252feb15');\n",
              "          const dataTable =\n",
              "            await google.colab.kernel.invokeFunction('convertToInteractive',\n",
              "                                                     [key], {});\n",
              "          if (!dataTable) return;\n",
              "\n",
              "          const docLinkHtml = 'Like what you see? Visit the ' +\n",
              "            '<a target=\"_blank\" href=https://colab.research.google.com/notebooks/data_table.ipynb>data table notebook</a>'\n",
              "            + ' to learn more about interactive tables.';\n",
              "          element.innerHTML = '';\n",
              "          dataTable['output_type'] = 'display_data';\n",
              "          await google.colab.output.renderOutput(dataTable, element);\n",
              "          const docLink = document.createElement('div');\n",
              "          docLink.innerHTML = docLinkHtml;\n",
              "          element.appendChild(docLink);\n",
              "        }\n",
              "      </script>\n",
              "    </div>\n",
              "  </div>\n",
              "  "
            ]
          },
          "metadata": {},
          "execution_count": 81
        }
      ],
      "source": [
        "zero_features = list(feature_importances_cbc[feature_importances_cbc['importance'] == 0.0]['feature'])\n",
        "print('There are %d features with 0.0 importance' % len(zero_features))\n",
        "feature_importances_cbc.head(100)"
      ]
    },
    {
      "cell_type": "code",
      "execution_count": null,
      "metadata": {
        "colab": {
          "base_uri": "https://localhost:8080/"
        },
        "id": "IKGQUHzIwJro",
        "outputId": "1f4402c9-0924-4ee3-f9fc-cdb13e0ed653"
      },
      "outputs": [
        {
          "output_type": "stream",
          "name": "stdout",
          "text": [
            "[19:50:05] WARNING: /workspace/src/objective/regression_obj.cu:152: reg:linear is now deprecated in favor of reg:squarederror.\n",
            "err:  7.705976225933854\n",
            "[19:50:07] WARNING: /workspace/src/objective/regression_obj.cu:152: reg:linear is now deprecated in favor of reg:squarederror.\n",
            "err:  10.969393742989558\n",
            "[19:50:09] WARNING: /workspace/src/objective/regression_obj.cu:152: reg:linear is now deprecated in favor of reg:squarederror.\n",
            "err:  8.482379281691363\n",
            "[19:50:11] WARNING: /workspace/src/objective/regression_obj.cu:152: reg:linear is now deprecated in favor of reg:squarederror.\n",
            "err:  12.991090040248041\n",
            "[19:50:12] WARNING: /workspace/src/objective/regression_obj.cu:152: reg:linear is now deprecated in favor of reg:squarederror.\n",
            "err:  16.45792158412969\n",
            "11.3213521749985\n"
          ]
        }
      ],
      "source": [
        "fold = KFold(n_splits=5)\n",
        "X = new_train.drop(['Amount (Million Naira)'],axis=1)\n",
        "y = new_train['Amount (Million Naira)']\n",
        "feature_importances_xgb = np.zeros(X.shape[1])\n",
        "oof_f1=[]\n",
        "xgb_pred = []\n",
        "\n",
        "for train_index, test_index in fold.split(X,y):\n",
        "  X_train, X_test = X.iloc[train_index],X.iloc[test_index]\n",
        "  y_train, y_test = y.iloc[train_index],y.iloc[test_index]\n",
        "\n",
        "  model = XGBRegressor()\n",
        "  model.fit(X_train,y_train,eval_set=[(X_train,y_train),(X_test, y_test)], early_stopping_rounds=500, verbose = False)#erly100\n",
        "  preds=model.predict(X_test)\n",
        "  print(\"err: \",sqrt(mean_squared_error(y_test,preds)))\n",
        "  oof_f1.append(sqrt(mean_squared_error(y_test,preds)))\n",
        "  p2 = model.predict(new_test)\n",
        "  xgb_pred.append(p2)\n",
        "  feature_importances_xgb += model.feature_importances_\n",
        "print(np.mean(oof_f1))\n"
      ]
    },
    {
      "cell_type": "code",
      "execution_count": null,
      "metadata": {
        "id": "I3x1zMPsFDVt"
      },
      "outputs": [],
      "source": [
        "feature_importances_xgb = feature_importances_xgb / 5\n",
        "feature_importances_xgb = pd.DataFrame({'feature': list(X.columns), 'importance': feature_importances_xgb}).sort_values('importance', ascending = False)"
      ]
    },
    {
      "cell_type": "code",
      "execution_count": null,
      "metadata": {
        "colab": {
          "base_uri": "https://localhost:8080/",
          "height": 882
        },
        "id": "9fDuamajFD4q",
        "outputId": "24208b0b-fe84-45ae-91fc-604fc9dfdb5a"
      },
      "outputs": [
        {
          "output_type": "stream",
          "name": "stdout",
          "text": [
            "There are 9 features with 0.0 importance\n"
          ]
        },
        {
          "output_type": "execute_result",
          "data": {
            "text/plain": [
              "          feature  importance\n",
              "25         others    0.265809\n",
              "8          Type_1    0.219499\n",
              "2            Year    0.103472\n",
              "11          loc_1    0.082709\n",
              "6     costly_cars    0.079059\n",
              "21           Ford    0.057863\n",
              "4      Model_Year    0.050583\n",
              "0           Maker    0.046839\n",
              "1           Model    0.039073\n",
              "3          Colour    0.014262\n",
              "19          Acura    0.010920\n",
              "9          Type_2    0.009619\n",
              "10         Type_3    0.006171\n",
              "20     Land Rover    0.005300\n",
              "15          Lexus    0.004711\n",
              "18        Hyundai    0.003642\n",
              "17          Honda    0.000469\n",
              "24        Peugeot    0.000000\n",
              "23         Nissan    0.000000\n",
              "22            BMW    0.000000\n",
              "7      cheap_cars    0.000000\n",
              "16  Mercedes-Benz    0.000000\n",
              "14         Toyota    0.000000\n",
              "12          loc_2    0.000000\n",
              "5    Distance_bin    0.000000\n",
              "13          loc_3    0.000000"
            ],
            "text/html": [
              "\n",
              "  <div id=\"df-6244a09f-e7c8-4a1c-bb84-f2d381bc685f\">\n",
              "    <div class=\"colab-df-container\">\n",
              "      <div>\n",
              "<style scoped>\n",
              "    .dataframe tbody tr th:only-of-type {\n",
              "        vertical-align: middle;\n",
              "    }\n",
              "\n",
              "    .dataframe tbody tr th {\n",
              "        vertical-align: top;\n",
              "    }\n",
              "\n",
              "    .dataframe thead th {\n",
              "        text-align: right;\n",
              "    }\n",
              "</style>\n",
              "<table border=\"1\" class=\"dataframe\">\n",
              "  <thead>\n",
              "    <tr style=\"text-align: right;\">\n",
              "      <th></th>\n",
              "      <th>feature</th>\n",
              "      <th>importance</th>\n",
              "    </tr>\n",
              "  </thead>\n",
              "  <tbody>\n",
              "    <tr>\n",
              "      <th>25</th>\n",
              "      <td>others</td>\n",
              "      <td>0.265809</td>\n",
              "    </tr>\n",
              "    <tr>\n",
              "      <th>8</th>\n",
              "      <td>Type_1</td>\n",
              "      <td>0.219499</td>\n",
              "    </tr>\n",
              "    <tr>\n",
              "      <th>2</th>\n",
              "      <td>Year</td>\n",
              "      <td>0.103472</td>\n",
              "    </tr>\n",
              "    <tr>\n",
              "      <th>11</th>\n",
              "      <td>loc_1</td>\n",
              "      <td>0.082709</td>\n",
              "    </tr>\n",
              "    <tr>\n",
              "      <th>6</th>\n",
              "      <td>costly_cars</td>\n",
              "      <td>0.079059</td>\n",
              "    </tr>\n",
              "    <tr>\n",
              "      <th>21</th>\n",
              "      <td>Ford</td>\n",
              "      <td>0.057863</td>\n",
              "    </tr>\n",
              "    <tr>\n",
              "      <th>4</th>\n",
              "      <td>Model_Year</td>\n",
              "      <td>0.050583</td>\n",
              "    </tr>\n",
              "    <tr>\n",
              "      <th>0</th>\n",
              "      <td>Maker</td>\n",
              "      <td>0.046839</td>\n",
              "    </tr>\n",
              "    <tr>\n",
              "      <th>1</th>\n",
              "      <td>Model</td>\n",
              "      <td>0.039073</td>\n",
              "    </tr>\n",
              "    <tr>\n",
              "      <th>3</th>\n",
              "      <td>Colour</td>\n",
              "      <td>0.014262</td>\n",
              "    </tr>\n",
              "    <tr>\n",
              "      <th>19</th>\n",
              "      <td>Acura</td>\n",
              "      <td>0.010920</td>\n",
              "    </tr>\n",
              "    <tr>\n",
              "      <th>9</th>\n",
              "      <td>Type_2</td>\n",
              "      <td>0.009619</td>\n",
              "    </tr>\n",
              "    <tr>\n",
              "      <th>10</th>\n",
              "      <td>Type_3</td>\n",
              "      <td>0.006171</td>\n",
              "    </tr>\n",
              "    <tr>\n",
              "      <th>20</th>\n",
              "      <td>Land Rover</td>\n",
              "      <td>0.005300</td>\n",
              "    </tr>\n",
              "    <tr>\n",
              "      <th>15</th>\n",
              "      <td>Lexus</td>\n",
              "      <td>0.004711</td>\n",
              "    </tr>\n",
              "    <tr>\n",
              "      <th>18</th>\n",
              "      <td>Hyundai</td>\n",
              "      <td>0.003642</td>\n",
              "    </tr>\n",
              "    <tr>\n",
              "      <th>17</th>\n",
              "      <td>Honda</td>\n",
              "      <td>0.000469</td>\n",
              "    </tr>\n",
              "    <tr>\n",
              "      <th>24</th>\n",
              "      <td>Peugeot</td>\n",
              "      <td>0.000000</td>\n",
              "    </tr>\n",
              "    <tr>\n",
              "      <th>23</th>\n",
              "      <td>Nissan</td>\n",
              "      <td>0.000000</td>\n",
              "    </tr>\n",
              "    <tr>\n",
              "      <th>22</th>\n",
              "      <td>BMW</td>\n",
              "      <td>0.000000</td>\n",
              "    </tr>\n",
              "    <tr>\n",
              "      <th>7</th>\n",
              "      <td>cheap_cars</td>\n",
              "      <td>0.000000</td>\n",
              "    </tr>\n",
              "    <tr>\n",
              "      <th>16</th>\n",
              "      <td>Mercedes-Benz</td>\n",
              "      <td>0.000000</td>\n",
              "    </tr>\n",
              "    <tr>\n",
              "      <th>14</th>\n",
              "      <td>Toyota</td>\n",
              "      <td>0.000000</td>\n",
              "    </tr>\n",
              "    <tr>\n",
              "      <th>12</th>\n",
              "      <td>loc_2</td>\n",
              "      <td>0.000000</td>\n",
              "    </tr>\n",
              "    <tr>\n",
              "      <th>5</th>\n",
              "      <td>Distance_bin</td>\n",
              "      <td>0.000000</td>\n",
              "    </tr>\n",
              "    <tr>\n",
              "      <th>13</th>\n",
              "      <td>loc_3</td>\n",
              "      <td>0.000000</td>\n",
              "    </tr>\n",
              "  </tbody>\n",
              "</table>\n",
              "</div>\n",
              "      <button class=\"colab-df-convert\" onclick=\"convertToInteractive('df-6244a09f-e7c8-4a1c-bb84-f2d381bc685f')\"\n",
              "              title=\"Convert this dataframe to an interactive table.\"\n",
              "              style=\"display:none;\">\n",
              "        \n",
              "  <svg xmlns=\"http://www.w3.org/2000/svg\" height=\"24px\"viewBox=\"0 0 24 24\"\n",
              "       width=\"24px\">\n",
              "    <path d=\"M0 0h24v24H0V0z\" fill=\"none\"/>\n",
              "    <path d=\"M18.56 5.44l.94 2.06.94-2.06 2.06-.94-2.06-.94-.94-2.06-.94 2.06-2.06.94zm-11 1L8.5 8.5l.94-2.06 2.06-.94-2.06-.94L8.5 2.5l-.94 2.06-2.06.94zm10 10l.94 2.06.94-2.06 2.06-.94-2.06-.94-.94-2.06-.94 2.06-2.06.94z\"/><path d=\"M17.41 7.96l-1.37-1.37c-.4-.4-.92-.59-1.43-.59-.52 0-1.04.2-1.43.59L10.3 9.45l-7.72 7.72c-.78.78-.78 2.05 0 2.83L4 21.41c.39.39.9.59 1.41.59.51 0 1.02-.2 1.41-.59l7.78-7.78 2.81-2.81c.8-.78.8-2.07 0-2.86zM5.41 20L4 18.59l7.72-7.72 1.47 1.35L5.41 20z\"/>\n",
              "  </svg>\n",
              "      </button>\n",
              "      \n",
              "  <style>\n",
              "    .colab-df-container {\n",
              "      display:flex;\n",
              "      flex-wrap:wrap;\n",
              "      gap: 12px;\n",
              "    }\n",
              "\n",
              "    .colab-df-convert {\n",
              "      background-color: #E8F0FE;\n",
              "      border: none;\n",
              "      border-radius: 50%;\n",
              "      cursor: pointer;\n",
              "      display: none;\n",
              "      fill: #1967D2;\n",
              "      height: 32px;\n",
              "      padding: 0 0 0 0;\n",
              "      width: 32px;\n",
              "    }\n",
              "\n",
              "    .colab-df-convert:hover {\n",
              "      background-color: #E2EBFA;\n",
              "      box-shadow: 0px 1px 2px rgba(60, 64, 67, 0.3), 0px 1px 3px 1px rgba(60, 64, 67, 0.15);\n",
              "      fill: #174EA6;\n",
              "    }\n",
              "\n",
              "    [theme=dark] .colab-df-convert {\n",
              "      background-color: #3B4455;\n",
              "      fill: #D2E3FC;\n",
              "    }\n",
              "\n",
              "    [theme=dark] .colab-df-convert:hover {\n",
              "      background-color: #434B5C;\n",
              "      box-shadow: 0px 1px 3px 1px rgba(0, 0, 0, 0.15);\n",
              "      filter: drop-shadow(0px 1px 2px rgba(0, 0, 0, 0.3));\n",
              "      fill: #FFFFFF;\n",
              "    }\n",
              "  </style>\n",
              "\n",
              "      <script>\n",
              "        const buttonEl =\n",
              "          document.querySelector('#df-6244a09f-e7c8-4a1c-bb84-f2d381bc685f button.colab-df-convert');\n",
              "        buttonEl.style.display =\n",
              "          google.colab.kernel.accessAllowed ? 'block' : 'none';\n",
              "\n",
              "        async function convertToInteractive(key) {\n",
              "          const element = document.querySelector('#df-6244a09f-e7c8-4a1c-bb84-f2d381bc685f');\n",
              "          const dataTable =\n",
              "            await google.colab.kernel.invokeFunction('convertToInteractive',\n",
              "                                                     [key], {});\n",
              "          if (!dataTable) return;\n",
              "\n",
              "          const docLinkHtml = 'Like what you see? Visit the ' +\n",
              "            '<a target=\"_blank\" href=https://colab.research.google.com/notebooks/data_table.ipynb>data table notebook</a>'\n",
              "            + ' to learn more about interactive tables.';\n",
              "          element.innerHTML = '';\n",
              "          dataTable['output_type'] = 'display_data';\n",
              "          await google.colab.output.renderOutput(dataTable, element);\n",
              "          const docLink = document.createElement('div');\n",
              "          docLink.innerHTML = docLinkHtml;\n",
              "          element.appendChild(docLink);\n",
              "        }\n",
              "      </script>\n",
              "    </div>\n",
              "  </div>\n",
              "  "
            ]
          },
          "metadata": {},
          "execution_count": 84
        }
      ],
      "source": [
        "zero_features = list(feature_importances_xgb[feature_importances_xgb['importance'] <= 0.000295]['feature'])\n",
        "print('There are %d features with 0.0 importance' % len(zero_features))\n",
        "feature_importances_xgb.head(100)"
      ]
    },
    {
      "cell_type": "code",
      "execution_count": null,
      "metadata": {
        "colab": {
          "base_uri": "https://localhost:8080/"
        },
        "id": "HRqjToJAGXFE",
        "outputId": "325267e4-060b-4003-85e8-63895a0bf570"
      },
      "outputs": [
        {
          "output_type": "stream",
          "name": "stdout",
          "text": [
            "err:  7.780843798018394\n",
            "err:  6.186317291614976\n",
            "err:  7.806018277683767\n",
            "err:  11.797072087373278\n",
            "err:  5.433012489773638\n",
            "err:  9.158756845066915\n",
            "err:  10.229450182855242\n",
            "err:  9.172266717497983\n",
            "err:  10.652809919071139\n",
            "err:  15.19179423699301\n",
            "9.340834184594833\n"
          ]
        }
      ],
      "source": [
        "fold = KFold(n_splits=10)\n",
        "X = new_train.drop(['Amount (Million Naira)'],axis=1)\n",
        "y = new_train['Amount (Million Naira)']\n",
        "oof_f1=[]\n",
        "feature_importances_cbc = np.zeros(X.shape[1])\n",
        "cat_pred = []\n",
        "\n",
        "for train_index, test_index in fold.split(X,y):\n",
        "  X_train, X_test = X.iloc[train_index],X.iloc[test_index]\n",
        "  y_train, y_test = y.iloc[train_index],y.iloc[test_index]\n",
        "\n",
        "  model = CatBoostRegressor(depth=5,\n",
        "                            l2_leaf_reg=2.0,\n",
        "                            iterations=4500.0)\n",
        "  model.fit(X_train,y_train,eval_set=[(X_train,y_train),(X_test, y_test)], early_stopping_rounds=500, verbose = False)#erly100\n",
        "  preds=model.predict(X_test)\n",
        "  print(\"err: \",sqrt(mean_squared_error(y_test,preds)))\n",
        "  oof_f1.append(sqrt(mean_squared_error(y_test,preds)))\n",
        "  cat_pred.append(model.predict(new_test))\n",
        "  feature_importances_cbc += model.feature_importances_\n",
        "print(np.mean(oof_f1))\n",
        "\n"
      ]
    },
    {
      "cell_type": "code",
      "execution_count": null,
      "metadata": {
        "id": "GdhrZAj0GXja"
      },
      "outputs": [],
      "source": [
        ""
      ]
    },
    {
      "cell_type": "code",
      "execution_count": null,
      "metadata": {
        "id": "cA9ngGh2GXw4"
      },
      "outputs": [],
      "source": [
        ""
      ]
    },
    {
      "cell_type": "code",
      "execution_count": null,
      "metadata": {
        "id": "-o8I_J4mGHSd"
      },
      "outputs": [],
      "source": [
        ""
      ]
    },
    {
      "cell_type": "code",
      "execution_count": null,
      "metadata": {
        "colab": {
          "base_uri": "https://localhost:8080/",
          "height": 424
        },
        "id": "A7XlGYe1hzwM",
        "outputId": "d4cc9799-14bc-48cf-a7c5-775251751524"
      },
      "outputs": [
        {
          "output_type": "execute_result",
          "data": {
            "text/plain": [
              "              0          1          2          3          4          5  \\\n",
              "0      3.700029   5.605295   5.115757   5.021294   3.905044   5.495278   \n",
              "1      6.112047   6.125547   6.069274   5.869435   5.855067   5.817040   \n",
              "2      4.385291   4.619083   4.543342   4.648103   4.318992   4.632190   \n",
              "3      4.796732   4.270860   4.416754   4.341441   4.636537   4.523829   \n",
              "4      8.700183   8.600874   7.995285   8.193338   8.870704   7.786456   \n",
              "...         ...        ...        ...        ...        ...        ...   \n",
              "2056  21.688399  19.793041  20.148560  18.779147  22.116523  19.723933   \n",
              "2057   8.421729   6.949464   7.734355   6.413695   8.841052   7.166755   \n",
              "2058   6.612856   6.914739   7.318338   7.495844   6.090561   7.197180   \n",
              "2059  10.334214  11.620299  10.959064  10.855567  10.353183  10.589581   \n",
              "2060   5.268386   4.748998   4.803479   4.408181   5.901416   3.988969   \n",
              "\n",
              "              6          7          8          9  \n",
              "0      4.836806   5.307996   3.231568   4.674725  \n",
              "1      5.836101   5.945028   5.817902   5.661343  \n",
              "2      4.789470   4.709482   4.553720   4.359575  \n",
              "3      4.357047   4.491304   4.536584   4.316267  \n",
              "4      8.369408   8.606388   8.673979   8.627567  \n",
              "...         ...        ...        ...        ...  \n",
              "2056  19.713208  19.550244  25.241788  21.598444  \n",
              "2057   7.430460   7.561738  10.716947   7.151666  \n",
              "2058   7.029785   7.132866   6.371129   7.193315  \n",
              "2059  11.172661  11.238995   9.262320  10.622720  \n",
              "2060   4.747450   4.887868   5.206847   5.028758  \n",
              "\n",
              "[2061 rows x 10 columns]"
            ],
            "text/html": [
              "\n",
              "  <div id=\"df-1cdd9532-6d47-4cd7-b1aa-a4ddba31ed20\">\n",
              "    <div class=\"colab-df-container\">\n",
              "      <div>\n",
              "<style scoped>\n",
              "    .dataframe tbody tr th:only-of-type {\n",
              "        vertical-align: middle;\n",
              "    }\n",
              "\n",
              "    .dataframe tbody tr th {\n",
              "        vertical-align: top;\n",
              "    }\n",
              "\n",
              "    .dataframe thead th {\n",
              "        text-align: right;\n",
              "    }\n",
              "</style>\n",
              "<table border=\"1\" class=\"dataframe\">\n",
              "  <thead>\n",
              "    <tr style=\"text-align: right;\">\n",
              "      <th></th>\n",
              "      <th>0</th>\n",
              "      <th>1</th>\n",
              "      <th>2</th>\n",
              "      <th>3</th>\n",
              "      <th>4</th>\n",
              "      <th>5</th>\n",
              "      <th>6</th>\n",
              "      <th>7</th>\n",
              "      <th>8</th>\n",
              "      <th>9</th>\n",
              "    </tr>\n",
              "  </thead>\n",
              "  <tbody>\n",
              "    <tr>\n",
              "      <th>0</th>\n",
              "      <td>3.700029</td>\n",
              "      <td>5.605295</td>\n",
              "      <td>5.115757</td>\n",
              "      <td>5.021294</td>\n",
              "      <td>3.905044</td>\n",
              "      <td>5.495278</td>\n",
              "      <td>4.836806</td>\n",
              "      <td>5.307996</td>\n",
              "      <td>3.231568</td>\n",
              "      <td>4.674725</td>\n",
              "    </tr>\n",
              "    <tr>\n",
              "      <th>1</th>\n",
              "      <td>6.112047</td>\n",
              "      <td>6.125547</td>\n",
              "      <td>6.069274</td>\n",
              "      <td>5.869435</td>\n",
              "      <td>5.855067</td>\n",
              "      <td>5.817040</td>\n",
              "      <td>5.836101</td>\n",
              "      <td>5.945028</td>\n",
              "      <td>5.817902</td>\n",
              "      <td>5.661343</td>\n",
              "    </tr>\n",
              "    <tr>\n",
              "      <th>2</th>\n",
              "      <td>4.385291</td>\n",
              "      <td>4.619083</td>\n",
              "      <td>4.543342</td>\n",
              "      <td>4.648103</td>\n",
              "      <td>4.318992</td>\n",
              "      <td>4.632190</td>\n",
              "      <td>4.789470</td>\n",
              "      <td>4.709482</td>\n",
              "      <td>4.553720</td>\n",
              "      <td>4.359575</td>\n",
              "    </tr>\n",
              "    <tr>\n",
              "      <th>3</th>\n",
              "      <td>4.796732</td>\n",
              "      <td>4.270860</td>\n",
              "      <td>4.416754</td>\n",
              "      <td>4.341441</td>\n",
              "      <td>4.636537</td>\n",
              "      <td>4.523829</td>\n",
              "      <td>4.357047</td>\n",
              "      <td>4.491304</td>\n",
              "      <td>4.536584</td>\n",
              "      <td>4.316267</td>\n",
              "    </tr>\n",
              "    <tr>\n",
              "      <th>4</th>\n",
              "      <td>8.700183</td>\n",
              "      <td>8.600874</td>\n",
              "      <td>7.995285</td>\n",
              "      <td>8.193338</td>\n",
              "      <td>8.870704</td>\n",
              "      <td>7.786456</td>\n",
              "      <td>8.369408</td>\n",
              "      <td>8.606388</td>\n",
              "      <td>8.673979</td>\n",
              "      <td>8.627567</td>\n",
              "    </tr>\n",
              "    <tr>\n",
              "      <th>...</th>\n",
              "      <td>...</td>\n",
              "      <td>...</td>\n",
              "      <td>...</td>\n",
              "      <td>...</td>\n",
              "      <td>...</td>\n",
              "      <td>...</td>\n",
              "      <td>...</td>\n",
              "      <td>...</td>\n",
              "      <td>...</td>\n",
              "      <td>...</td>\n",
              "    </tr>\n",
              "    <tr>\n",
              "      <th>2056</th>\n",
              "      <td>21.688399</td>\n",
              "      <td>19.793041</td>\n",
              "      <td>20.148560</td>\n",
              "      <td>18.779147</td>\n",
              "      <td>22.116523</td>\n",
              "      <td>19.723933</td>\n",
              "      <td>19.713208</td>\n",
              "      <td>19.550244</td>\n",
              "      <td>25.241788</td>\n",
              "      <td>21.598444</td>\n",
              "    </tr>\n",
              "    <tr>\n",
              "      <th>2057</th>\n",
              "      <td>8.421729</td>\n",
              "      <td>6.949464</td>\n",
              "      <td>7.734355</td>\n",
              "      <td>6.413695</td>\n",
              "      <td>8.841052</td>\n",
              "      <td>7.166755</td>\n",
              "      <td>7.430460</td>\n",
              "      <td>7.561738</td>\n",
              "      <td>10.716947</td>\n",
              "      <td>7.151666</td>\n",
              "    </tr>\n",
              "    <tr>\n",
              "      <th>2058</th>\n",
              "      <td>6.612856</td>\n",
              "      <td>6.914739</td>\n",
              "      <td>7.318338</td>\n",
              "      <td>7.495844</td>\n",
              "      <td>6.090561</td>\n",
              "      <td>7.197180</td>\n",
              "      <td>7.029785</td>\n",
              "      <td>7.132866</td>\n",
              "      <td>6.371129</td>\n",
              "      <td>7.193315</td>\n",
              "    </tr>\n",
              "    <tr>\n",
              "      <th>2059</th>\n",
              "      <td>10.334214</td>\n",
              "      <td>11.620299</td>\n",
              "      <td>10.959064</td>\n",
              "      <td>10.855567</td>\n",
              "      <td>10.353183</td>\n",
              "      <td>10.589581</td>\n",
              "      <td>11.172661</td>\n",
              "      <td>11.238995</td>\n",
              "      <td>9.262320</td>\n",
              "      <td>10.622720</td>\n",
              "    </tr>\n",
              "    <tr>\n",
              "      <th>2060</th>\n",
              "      <td>5.268386</td>\n",
              "      <td>4.748998</td>\n",
              "      <td>4.803479</td>\n",
              "      <td>4.408181</td>\n",
              "      <td>5.901416</td>\n",
              "      <td>3.988969</td>\n",
              "      <td>4.747450</td>\n",
              "      <td>4.887868</td>\n",
              "      <td>5.206847</td>\n",
              "      <td>5.028758</td>\n",
              "    </tr>\n",
              "  </tbody>\n",
              "</table>\n",
              "<p>2061 rows × 10 columns</p>\n",
              "</div>\n",
              "      <button class=\"colab-df-convert\" onclick=\"convertToInteractive('df-1cdd9532-6d47-4cd7-b1aa-a4ddba31ed20')\"\n",
              "              title=\"Convert this dataframe to an interactive table.\"\n",
              "              style=\"display:none;\">\n",
              "        \n",
              "  <svg xmlns=\"http://www.w3.org/2000/svg\" height=\"24px\"viewBox=\"0 0 24 24\"\n",
              "       width=\"24px\">\n",
              "    <path d=\"M0 0h24v24H0V0z\" fill=\"none\"/>\n",
              "    <path d=\"M18.56 5.44l.94 2.06.94-2.06 2.06-.94-2.06-.94-.94-2.06-.94 2.06-2.06.94zm-11 1L8.5 8.5l.94-2.06 2.06-.94-2.06-.94L8.5 2.5l-.94 2.06-2.06.94zm10 10l.94 2.06.94-2.06 2.06-.94-2.06-.94-.94-2.06-.94 2.06-2.06.94z\"/><path d=\"M17.41 7.96l-1.37-1.37c-.4-.4-.92-.59-1.43-.59-.52 0-1.04.2-1.43.59L10.3 9.45l-7.72 7.72c-.78.78-.78 2.05 0 2.83L4 21.41c.39.39.9.59 1.41.59.51 0 1.02-.2 1.41-.59l7.78-7.78 2.81-2.81c.8-.78.8-2.07 0-2.86zM5.41 20L4 18.59l7.72-7.72 1.47 1.35L5.41 20z\"/>\n",
              "  </svg>\n",
              "      </button>\n",
              "      \n",
              "  <style>\n",
              "    .colab-df-container {\n",
              "      display:flex;\n",
              "      flex-wrap:wrap;\n",
              "      gap: 12px;\n",
              "    }\n",
              "\n",
              "    .colab-df-convert {\n",
              "      background-color: #E8F0FE;\n",
              "      border: none;\n",
              "      border-radius: 50%;\n",
              "      cursor: pointer;\n",
              "      display: none;\n",
              "      fill: #1967D2;\n",
              "      height: 32px;\n",
              "      padding: 0 0 0 0;\n",
              "      width: 32px;\n",
              "    }\n",
              "\n",
              "    .colab-df-convert:hover {\n",
              "      background-color: #E2EBFA;\n",
              "      box-shadow: 0px 1px 2px rgba(60, 64, 67, 0.3), 0px 1px 3px 1px rgba(60, 64, 67, 0.15);\n",
              "      fill: #174EA6;\n",
              "    }\n",
              "\n",
              "    [theme=dark] .colab-df-convert {\n",
              "      background-color: #3B4455;\n",
              "      fill: #D2E3FC;\n",
              "    }\n",
              "\n",
              "    [theme=dark] .colab-df-convert:hover {\n",
              "      background-color: #434B5C;\n",
              "      box-shadow: 0px 1px 3px 1px rgba(0, 0, 0, 0.15);\n",
              "      filter: drop-shadow(0px 1px 2px rgba(0, 0, 0, 0.3));\n",
              "      fill: #FFFFFF;\n",
              "    }\n",
              "  </style>\n",
              "\n",
              "      <script>\n",
              "        const buttonEl =\n",
              "          document.querySelector('#df-1cdd9532-6d47-4cd7-b1aa-a4ddba31ed20 button.colab-df-convert');\n",
              "        buttonEl.style.display =\n",
              "          google.colab.kernel.accessAllowed ? 'block' : 'none';\n",
              "\n",
              "        async function convertToInteractive(key) {\n",
              "          const element = document.querySelector('#df-1cdd9532-6d47-4cd7-b1aa-a4ddba31ed20');\n",
              "          const dataTable =\n",
              "            await google.colab.kernel.invokeFunction('convertToInteractive',\n",
              "                                                     [key], {});\n",
              "          if (!dataTable) return;\n",
              "\n",
              "          const docLinkHtml = 'Like what you see? Visit the ' +\n",
              "            '<a target=\"_blank\" href=https://colab.research.google.com/notebooks/data_table.ipynb>data table notebook</a>'\n",
              "            + ' to learn more about interactive tables.';\n",
              "          element.innerHTML = '';\n",
              "          dataTable['output_type'] = 'display_data';\n",
              "          await google.colab.output.renderOutput(dataTable, element);\n",
              "          const docLink = document.createElement('div');\n",
              "          docLink.innerHTML = docLinkHtml;\n",
              "          element.appendChild(docLink);\n",
              "        }\n",
              "      </script>\n",
              "    </div>\n",
              "  </div>\n",
              "  "
            ]
          },
          "metadata": {},
          "execution_count": 126
        }
      ],
      "source": [
        "cat_pred_1 = pd.DataFrame(cat_pred).T\n",
        "#xgb_pred_1 = pd.DataFrame(xgb_pred).T\n",
        "#all_pred = cat_pred_1.join(xgb_pred_1, lsuffix=\"_cat\", rsuffix=\"_xgb\")\n",
        "#all_pred = 0.7 * cat_pred_1 + 0.3 * cat_pred_1\n",
        "#all_pred"
      ]
    },
    {
      "cell_type": "code",
      "execution_count": null,
      "metadata": {
        "colab": {
          "base_uri": "https://localhost:8080/"
        },
        "id": "DQgtqmwrwFdv",
        "outputId": "18d97fd5-e949-423c-ea6c-50e677ae9883"
      },
      "outputs": [
        {
          "output_type": "execute_result",
          "data": {
            "text/plain": [
              "0        4.689379\n",
              "1        5.910878\n",
              "2        4.555925\n",
              "3        4.468736\n",
              "4        8.442418\n",
              "          ...    \n",
              "2056    20.835329\n",
              "2057     7.838786\n",
              "2058     6.935661\n",
              "2059    10.700860\n",
              "2060     4.899035\n",
              "Length: 2061, dtype: float64"
            ]
          },
          "metadata": {},
          "execution_count": 127
        }
      ],
      "source": [
        "mean_pred = cat_pred_1.mean(axis=1)\n",
        "mean_pred"
      ]
    },
    {
      "cell_type": "code",
      "execution_count": null,
      "metadata": {
        "id": "-Waz4r1jzod9"
      },
      "outputs": [],
      "source": [
        "SampleSub['Amount (Million Naira)'] = mean_pred"
      ]
    },
    {
      "cell_type": "code",
      "execution_count": null,
      "metadata": {
        "id": "KLojPY99zsLC"
      },
      "outputs": [],
      "source": [
        "SampleSub.to_csv('SampleSubmission catboost7_ensemble1.csv',index=False)"
      ]
    }
  ],
  "metadata": {
    "colab": {
      "collapsed_sections": [],
      "name": "FreeAIClasses Hackathon2.ipynb",
      "provenance": [],
      "authorship_tag": "ABX9TyMiBiQ5RoSRQMFFPn8e0cnA",
      "include_colab_link": true
    },
    "kernelspec": {
      "display_name": "Python 3",
      "name": "python3"
    },
    "language_info": {
      "name": "python"
    },
    "gpuClass": "standard"
  },
  "nbformat": 4,
  "nbformat_minor": 0
}